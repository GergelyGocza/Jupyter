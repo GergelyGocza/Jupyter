{
 "cells": [
  {
   "cell_type": "markdown",
   "metadata": {},
   "source": [
    "### Könyvtárak importálása"
   ]
  },
  {
   "cell_type": "code",
   "execution_count": 131,
   "metadata": {},
   "outputs": [],
   "source": [
    "import pandas as pd\n",
    "import numpy as np\n",
    "import matplotlib.pyplot as plt\n",
    "%matplotlib inline"
   ]
  },
  {
   "cell_type": "markdown",
   "metadata": {},
   "source": [
    "### Adatok"
   ]
  },
  {
   "cell_type": "code",
   "execution_count": 146,
   "metadata": {},
   "outputs": [
    {
     "data": {
      "text/plain": [
       "array([ 2490,  2680,  2935,  3210,  3430,  3780,  3945,  4100,  4460,\n",
       "        4860,  5130,  5480,  5625,  5975,  6105,  6220,  6220,  6480,\n",
       "        6730,  7365,  7520,  7995,  8685, 11005, 14525])"
      ]
     },
     "execution_count": 146,
     "metadata": {},
     "output_type": "execute_result"
    }
   ],
   "source": [
    "tömb = [3430, 2490, 7995, 5625, 4860, 2935, 6105, 14525, 4100, 3780, 7520, 11005,\n",
    "        6220, 6480, 4460, 6730, 5975, 7365, 5130, 2680, 3945, 5480, 6220, 3210, 8685]\n",
    "\n",
    "rendezett_tömb = np.array(sorted(tömb))\n",
    "rendezett_tömb"
   ]
  },
  {
   "cell_type": "markdown",
   "metadata": {},
   "source": [
    "### Osztályközök készítése"
   ]
  },
  {
   "cell_type": "code",
   "execution_count": 129,
   "metadata": {},
   "outputs": [
    {
     "data": {
      "text/plain": [
       "[[2490, 2680, 2935, 3210, 3430, 3780, 3945, 4100, 4460, 4860],\n",
       " [5130, 5480, 5625, 5975, 6105, 6220, 6220, 6480, 6730],\n",
       " [7365, 7520, 7995, 8685],\n",
       " [11005],\n",
       " [14525]]"
      ]
     },
     "execution_count": 129,
     "metadata": {},
     "output_type": "execute_result"
    }
   ],
   "source": [
    "def osztályköz(tömb, osztályok_száma):\n",
    "    osztályok = []\n",
    "    tömb = np.array(sorted(tömb))\n",
    "    \n",
    "    osztály_méret = (tömb[-1] - tömb[0]) / osztályok_száma\n",
    "    osztály = tömb[0] + osztály_méret\n",
    "    lista = []\n",
    "    \n",
    "    for i, x in enumerate(tömb):\n",
    "        if (x <= osztály):\n",
    "            lista.append(x)\n",
    "            if (i == len(tömb)-1):\n",
    "                osztályok.append(lista)\n",
    "                \n",
    "        else:\n",
    "            osztályok.append(lista)\n",
    "            lista = [x]\n",
    "            osztály += osztály_méret\n",
    "            if (i == len(tömb)-1):\n",
    "                osztályok.append(lista)\n",
    "            \n",
    "    return osztályok\n",
    "    \n",
    "osztályköz(tömb, 5)"
   ]
  },
  {
   "cell_type": "markdown",
   "metadata": {},
   "source": [
    "### Osztályközök gyakoriságai"
   ]
  },
  {
   "cell_type": "code",
   "execution_count": 153,
   "metadata": {},
   "outputs": [
    {
     "name": "stdout",
     "output_type": "stream",
     "text": [
      "{4860.0: 1, 4460.0: 1, 4100.0: 1, 3945.0: 1, 3780.0: 1, 3430.0: 1, 3210.0: 1, 2935.0: 1, 2680.0: 1, 2490.0: 1}\n",
      "{6220.0: 2, 6730.0: 1, 6480.0: 1, 6105.0: 1, 5975.0: 1, 5625.0: 1, 5480.0: 1, 5130.0: 1}\n",
      "{8685.0: 1, 7995.0: 1, 7520.0: 1, 7365.0: 1}\n",
      "{11005.0: 1}\n",
      "{14525.0: 1}\n"
     ]
    }
   ],
   "source": [
    "df = pd.DataFrame(osztályköz(tömb, 5)).T\n",
    "for i in df:\n",
    "    print(dict(df[i].value_counts()))"
   ]
  },
  {
   "cell_type": "markdown",
   "metadata": {},
   "source": [
    "### Gini és Lorenz-görbe"
   ]
  },
  {
   "cell_type": "markdown",
   "metadata": {},
   "source": [
    "Függvények írása"
   ]
  },
  {
   "cell_type": "code",
   "execution_count": 156,
   "metadata": {
    "scrolled": true
   },
   "outputs": [],
   "source": [
    "def gini(arr):\n",
    "    count = arr.size\n",
    "    coefficient = 2 / count\n",
    "    indexes = np.arange(1, count + 1)\n",
    "    weighted_sum = (indexes * arr).sum()\n",
    "    total = arr.sum()\n",
    "    constant = (count + 1) / count\n",
    "    \n",
    "    return coefficient * weighted_sum / total - constant\n",
    "\n",
    "def lorenz(arr):\n",
    "    scaled_prefix_sum = arr.cumsum() / arr.sum()\n",
    "\n",
    "    return np.insert(scaled_prefix_sum, 0, 0)\n",
    "\n",
    "def gini_lorenz(arr):\n",
    "    print('Gini: ', gini(arr))\n",
    "    lorenz_curve = lorenz(arr)\n",
    "\n",
    "    plt.figure(figsize=(12, 7))\n",
    "    plt.plot(np.linspace(0.0, 1.0, lorenz_curve.size), lorenz_curve)\n",
    "    plt.plot([0,1], [0,1])    \n",
    "    plt.title('Lorenz-Curve', size=14)"
   ]
  },
  {
   "cell_type": "markdown",
   "metadata": {},
   "source": [
    "Függvény hívása"
   ]
  },
  {
   "cell_type": "code",
   "execution_count": 155,
   "metadata": {},
   "outputs": [
    {
     "name": "stdout",
     "output_type": "stream",
     "text": [
      "Gini:  0.23765906771010537\n"
     ]
    },
    {
     "data": {
      "image/png": "[encoded data removed]",
      "text/plain": [
       "<Figure size 864x504 with 1 Axes>"
      ]
     },
     "metadata": {
      "needs_background": "light"
     },
     "output_type": "display_data"
    }
   ],
   "source": [
    "gini_lorenz(rendezett_tömb)"
   ]
  },
  {
   "cell_type": "markdown",
   "metadata": {},
   "source": [
    "### Egymástól való átlagos eltérés"
   ]
  },
  {
   "cell_type": "code",
   "execution_count": 177,
   "metadata": {},
   "outputs": [
    {
     "data": {
      "text/plain": [
       "2793.92"
      ]
     },
     "execution_count": 177,
     "metadata": {},
     "output_type": "execute_result"
    }
   ],
   "source": [
    "def egymástól_átlagos_eltérés(arr):\n",
    "    össz = 0\n",
    "\n",
    "    for i in arr:\n",
    "        for j in arr:\n",
    "            össz += abs(i - j)\n",
    "\n",
    "    return (össz / (len(arr))**2)\n",
    "\n",
    "egymástól_átlagos_eltérés(tömb)"
   ]
  },
  {
   "cell_type": "markdown",
   "metadata": {},
   "source": [
    "### Koncentráció"
   ]
  },
  {
   "cell_type": "code",
   "execution_count": 157,
   "metadata": {},
   "outputs": [
    {
     "data": {
      "text/plain": [
       "2.0215980580988887e-05"
      ]
     },
     "execution_count": 157,
     "metadata": {},
     "output_type": "execute_result"
    }
   ],
   "source": [
    "def koncentráció(arr):\n",
    "    return gini(arr) / (2*arr.mean())\n",
    "\n",
    "koncentráció(rendezett_tömb)"
   ]
  }
 ],
 "metadata": {
  "hide_input": false,
  "kernelspec": {
   "display_name": "Python 3",
   "language": "python",
   "name": "python3"
  },
  "language_info": {
   "codemirror_mode": {
    "name": "ipython",
    "version": 3
   },
   "file_extension": ".py",
   "mimetype": "text/x-python",
   "name": "python",
   "nbconvert_exporter": "python",
   "pygments_lexer": "ipython3",
   "version": "3.7.4"
  }
 },
 "nbformat": 4,
 "nbformat_minor": 2
}
