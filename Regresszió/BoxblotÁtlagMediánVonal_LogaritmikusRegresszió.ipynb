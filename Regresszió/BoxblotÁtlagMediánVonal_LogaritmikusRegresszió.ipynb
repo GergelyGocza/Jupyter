{
 "cells": [
  {
   "cell_type": "markdown",
   "metadata": {},
   "source": [
    "### Könyvtárak importálása"
   ]
  },
  {
   "cell_type": "code",
   "execution_count": 1,
   "metadata": {},
   "outputs": [],
   "source": [
    "import pandas as pd\n",
    "import numpy as np\n",
    "import researchpy as rp\n",
    "from scipy import stats\n",
    "import matplotlib.pyplot as plt\n",
    "import seaborn as sns\n",
    "import plotly.express as px\n",
    "import plotly.graph_objects as go"
   ]
  },
  {
   "cell_type": "markdown",
   "metadata": {},
   "source": [
    "### Gapminder dataset beolvasása"
   ]
  },
  {
   "cell_type": "code",
   "execution_count": 2,
   "metadata": {},
   "outputs": [
    {
     "data": {
      "text/html": [
       "<div>\n",
       "<style scoped>\n",
       "    .dataframe tbody tr th:only-of-type {\n",
       "        vertical-align: middle;\n",
       "    }\n",
       "\n",
       "    .dataframe tbody tr th {\n",
       "        vertical-align: top;\n",
       "    }\n",
       "\n",
       "    .dataframe thead th {\n",
       "        text-align: right;\n",
       "    }\n",
       "</style>\n",
       "<table border=\"1\" class=\"dataframe\">\n",
       "  <thead>\n",
       "    <tr style=\"text-align: right;\">\n",
       "      <th></th>\n",
       "      <th>country</th>\n",
       "      <th>continent</th>\n",
       "      <th>year</th>\n",
       "      <th>lifeExp</th>\n",
       "      <th>pop</th>\n",
       "      <th>gdpPercap</th>\n",
       "    </tr>\n",
       "  </thead>\n",
       "  <tbody>\n",
       "    <tr>\n",
       "      <th>0</th>\n",
       "      <td>Afghanistan</td>\n",
       "      <td>Asia</td>\n",
       "      <td>1952</td>\n",
       "      <td>28.801</td>\n",
       "      <td>8425333</td>\n",
       "      <td>779.445314</td>\n",
       "    </tr>\n",
       "    <tr>\n",
       "      <th>1</th>\n",
       "      <td>Afghanistan</td>\n",
       "      <td>Asia</td>\n",
       "      <td>1957</td>\n",
       "      <td>30.332</td>\n",
       "      <td>9240934</td>\n",
       "      <td>820.853030</td>\n",
       "    </tr>\n",
       "    <tr>\n",
       "      <th>2</th>\n",
       "      <td>Afghanistan</td>\n",
       "      <td>Asia</td>\n",
       "      <td>1962</td>\n",
       "      <td>31.997</td>\n",
       "      <td>10267083</td>\n",
       "      <td>853.100710</td>\n",
       "    </tr>\n",
       "    <tr>\n",
       "      <th>3</th>\n",
       "      <td>Afghanistan</td>\n",
       "      <td>Asia</td>\n",
       "      <td>1967</td>\n",
       "      <td>34.020</td>\n",
       "      <td>11537966</td>\n",
       "      <td>836.197138</td>\n",
       "    </tr>\n",
       "    <tr>\n",
       "      <th>4</th>\n",
       "      <td>Afghanistan</td>\n",
       "      <td>Asia</td>\n",
       "      <td>1972</td>\n",
       "      <td>36.088</td>\n",
       "      <td>13079460</td>\n",
       "      <td>739.981106</td>\n",
       "    </tr>\n",
       "  </tbody>\n",
       "</table>\n",
       "</div>"
      ],
      "text/plain": [
       "       country continent  year  lifeExp       pop   gdpPercap\n",
       "0  Afghanistan      Asia  1952   28.801   8425333  779.445314\n",
       "1  Afghanistan      Asia  1957   30.332   9240934  820.853030\n",
       "2  Afghanistan      Asia  1962   31.997  10267083  853.100710\n",
       "3  Afghanistan      Asia  1967   34.020  11537966  836.197138\n",
       "4  Afghanistan      Asia  1972   36.088  13079460  739.981106"
      ]
     },
     "execution_count": 2,
     "metadata": {},
     "output_type": "execute_result"
    }
   ],
   "source": [
    "from gapminder import gapminder\n",
    "df = gapminder\n",
    "df.head()"
   ]
  },
  {
   "cell_type": "code",
   "execution_count": 3,
   "metadata": {},
   "outputs": [
    {
     "data": {
      "text/plain": [
       "(1704, 6)"
      ]
     },
     "execution_count": 3,
     "metadata": {},
     "output_type": "execute_result"
    }
   ],
   "source": [
    "df.shape"
   ]
  },
  {
   "cell_type": "markdown",
   "metadata": {},
   "source": [
    "### Oszlopok átnevezése"
   ]
  },
  {
   "cell_type": "code",
   "execution_count": 4,
   "metadata": {},
   "outputs": [
    {
     "data": {
      "text/html": [
       "<div>\n",
       "<style scoped>\n",
       "    .dataframe tbody tr th:only-of-type {\n",
       "        vertical-align: middle;\n",
       "    }\n",
       "\n",
       "    .dataframe tbody tr th {\n",
       "        vertical-align: top;\n",
       "    }\n",
       "\n",
       "    .dataframe thead th {\n",
       "        text-align: right;\n",
       "    }\n",
       "</style>\n",
       "<table border=\"1\" class=\"dataframe\">\n",
       "  <thead>\n",
       "    <tr style=\"text-align: right;\">\n",
       "      <th></th>\n",
       "      <th>Ország</th>\n",
       "      <th>Kontinens</th>\n",
       "      <th>Év</th>\n",
       "      <th>VárhatóÉletkor</th>\n",
       "      <th>Népesség</th>\n",
       "      <th>GdpPerFő</th>\n",
       "    </tr>\n",
       "  </thead>\n",
       "  <tbody>\n",
       "    <tr>\n",
       "      <th>0</th>\n",
       "      <td>Afghanistan</td>\n",
       "      <td>Asia</td>\n",
       "      <td>1952</td>\n",
       "      <td>28.801</td>\n",
       "      <td>8425333</td>\n",
       "      <td>779.445314</td>\n",
       "    </tr>\n",
       "    <tr>\n",
       "      <th>1</th>\n",
       "      <td>Afghanistan</td>\n",
       "      <td>Asia</td>\n",
       "      <td>1957</td>\n",
       "      <td>30.332</td>\n",
       "      <td>9240934</td>\n",
       "      <td>820.853030</td>\n",
       "    </tr>\n",
       "    <tr>\n",
       "      <th>2</th>\n",
       "      <td>Afghanistan</td>\n",
       "      <td>Asia</td>\n",
       "      <td>1962</td>\n",
       "      <td>31.997</td>\n",
       "      <td>10267083</td>\n",
       "      <td>853.100710</td>\n",
       "    </tr>\n",
       "    <tr>\n",
       "      <th>3</th>\n",
       "      <td>Afghanistan</td>\n",
       "      <td>Asia</td>\n",
       "      <td>1967</td>\n",
       "      <td>34.020</td>\n",
       "      <td>11537966</td>\n",
       "      <td>836.197138</td>\n",
       "    </tr>\n",
       "    <tr>\n",
       "      <th>4</th>\n",
       "      <td>Afghanistan</td>\n",
       "      <td>Asia</td>\n",
       "      <td>1972</td>\n",
       "      <td>36.088</td>\n",
       "      <td>13079460</td>\n",
       "      <td>739.981106</td>\n",
       "    </tr>\n",
       "  </tbody>\n",
       "</table>\n",
       "</div>"
      ],
      "text/plain": [
       "        Ország Kontinens    Év  VárhatóÉletkor  Népesség    GdpPerFő\n",
       "0  Afghanistan      Asia  1952          28.801   8425333  779.445314\n",
       "1  Afghanistan      Asia  1957          30.332   9240934  820.853030\n",
       "2  Afghanistan      Asia  1962          31.997  10267083  853.100710\n",
       "3  Afghanistan      Asia  1967          34.020  11537966  836.197138\n",
       "4  Afghanistan      Asia  1972          36.088  13079460  739.981106"
      ]
     },
     "execution_count": 4,
     "metadata": {},
     "output_type": "execute_result"
    }
   ],
   "source": [
    "df.columns = ['Ország', 'Kontinens', 'Év', 'VárhatóÉletkor', 'Népesség', 'GdpPerFő']\n",
    "\n",
    "df.head()"
   ]
  },
  {
   "cell_type": "markdown",
   "metadata": {},
   "source": [
    "### Változók méreteinek lecsökkentése (típus átalakítás)"
   ]
  },
  {
   "cell_type": "code",
   "execution_count": 5,
   "metadata": {},
   "outputs": [
    {
     "name": "stdout",
     "output_type": "stream",
     "text": [
      "<class 'pandas.core.frame.DataFrame'>\n",
      "RangeIndex: 1704 entries, 0 to 1703\n",
      "Data columns (total 6 columns):\n",
      "Ország            object\n",
      "Kontinens         object\n",
      "Év                int64\n",
      "VárhatóÉletkor    float64\n",
      "Népesség          int64\n",
      "GdpPerFő          float64\n",
      "dtypes: float64(2), int64(2), object(2)\n",
      "memory usage: 80.0+ KB\n"
     ]
    }
   ],
   "source": [
    "df.info(null_counts=False)"
   ]
  },
  {
   "cell_type": "code",
   "execution_count": 6,
   "metadata": {},
   "outputs": [],
   "source": [
    "df['Év'] = df['Év'].astype('int16')\n",
    "df[['VárhatóÉletkor', 'GdpPerFő']] = df[['VárhatóÉletkor', 'GdpPerFő']].astype('float32')\n",
    "\n",
    "df['Kontinens'] = df['Kontinens'].astype('category')"
   ]
  },
  {
   "cell_type": "code",
   "execution_count": 7,
   "metadata": {},
   "outputs": [
    {
     "name": "stdout",
     "output_type": "stream",
     "text": [
      "<class 'pandas.core.frame.DataFrame'>\n",
      "RangeIndex: 1704 entries, 0 to 1703\n",
      "Data columns (total 6 columns):\n",
      "Ország            object\n",
      "Kontinens         category\n",
      "Év                int16\n",
      "VárhatóÉletkor    float32\n",
      "Népesség          int64\n",
      "GdpPerFő          float32\n",
      "dtypes: category(1), float32(2), int16(1), int64(1), object(1)\n",
      "memory usage: 45.2+ KB\n"
     ]
    }
   ],
   "source": [
    "df.info(null_counts=False)"
   ]
  },
  {
   "cell_type": "markdown",
   "metadata": {},
   "source": [
    "### Leíró statisztikák"
   ]
  },
  {
   "cell_type": "code",
   "execution_count": 8,
   "metadata": {
    "scrolled": false
   },
   "outputs": [
    {
     "data": {
      "text/html": [
       "<div>\n",
       "<style scoped>\n",
       "    .dataframe tbody tr th:only-of-type {\n",
       "        vertical-align: middle;\n",
       "    }\n",
       "\n",
       "    .dataframe tbody tr th {\n",
       "        vertical-align: top;\n",
       "    }\n",
       "\n",
       "    .dataframe thead th {\n",
       "        text-align: right;\n",
       "    }\n",
       "</style>\n",
       "<table border=\"1\" class=\"dataframe\">\n",
       "  <thead>\n",
       "    <tr style=\"text-align: right;\">\n",
       "      <th></th>\n",
       "      <th>count</th>\n",
       "      <th>mean</th>\n",
       "      <th>std</th>\n",
       "      <th>min</th>\n",
       "      <th>25%</th>\n",
       "      <th>50%</th>\n",
       "      <th>75%</th>\n",
       "      <th>max</th>\n",
       "    </tr>\n",
       "  </thead>\n",
       "  <tbody>\n",
       "    <tr>\n",
       "      <th>Év</th>\n",
       "      <td>1704.0</td>\n",
       "      <td>1979.5</td>\n",
       "      <td>17.3</td>\n",
       "      <td>1952.0</td>\n",
       "      <td>1965.8</td>\n",
       "      <td>1979.5</td>\n",
       "      <td>1993.2</td>\n",
       "      <td>2007.0</td>\n",
       "    </tr>\n",
       "    <tr>\n",
       "      <th>VárhatóÉletkor</th>\n",
       "      <td>1704.0</td>\n",
       "      <td>59.5</td>\n",
       "      <td>12.9</td>\n",
       "      <td>23.6</td>\n",
       "      <td>48.2</td>\n",
       "      <td>60.7</td>\n",
       "      <td>70.8</td>\n",
       "      <td>82.6</td>\n",
       "    </tr>\n",
       "    <tr>\n",
       "      <th>Népesség</th>\n",
       "      <td>1704.0</td>\n",
       "      <td>29601212.3</td>\n",
       "      <td>106157896.7</td>\n",
       "      <td>60011.0</td>\n",
       "      <td>2793664.0</td>\n",
       "      <td>7023595.5</td>\n",
       "      <td>19585221.8</td>\n",
       "      <td>1318683096.0</td>\n",
       "    </tr>\n",
       "    <tr>\n",
       "      <th>GdpPerFő</th>\n",
       "      <td>1704.0</td>\n",
       "      <td>7215.3</td>\n",
       "      <td>9857.5</td>\n",
       "      <td>241.2</td>\n",
       "      <td>1202.1</td>\n",
       "      <td>3531.8</td>\n",
       "      <td>9325.5</td>\n",
       "      <td>113523.1</td>\n",
       "    </tr>\n",
       "  </tbody>\n",
       "</table>\n",
       "</div>"
      ],
      "text/plain": [
       "                count       mean         std     min       25%       50%  \\\n",
       "Év             1704.0     1979.5        17.3  1952.0    1965.8    1979.5   \n",
       "VárhatóÉletkor 1704.0       59.5        12.9    23.6      48.2      60.7   \n",
       "Népesség       1704.0 29601212.3 106157896.7 60011.0 2793664.0 7023595.5   \n",
       "GdpPerFő       1704.0     7215.3      9857.5   241.2    1202.1    3531.8   \n",
       "\n",
       "                      75%          max  \n",
       "Év                 1993.2       2007.0  \n",
       "VárhatóÉletkor       70.8         82.6  \n",
       "Népesség       19585221.8 1318683096.0  \n",
       "GdpPerFő           9325.5     113523.1  "
      ]
     },
     "execution_count": 8,
     "metadata": {},
     "output_type": "execute_result"
    }
   ],
   "source": [
    "pd.set_option('display.float_format', lambda x: '%.1f' % x)\n",
    "df.describe().T"
   ]
  },
  {
   "cell_type": "code",
   "execution_count": 9,
   "metadata": {
    "scrolled": false
   },
   "outputs": [
    {
     "name": "stdout",
     "output_type": "stream",
     "text": [
      "\n",
      "\n"
     ]
    },
    {
     "data": {
      "text/html": [
       "<div>\n",
       "<style scoped>\n",
       "    .dataframe tbody tr th:only-of-type {\n",
       "        vertical-align: middle;\n",
       "    }\n",
       "\n",
       "    .dataframe tbody tr th {\n",
       "        vertical-align: top;\n",
       "    }\n",
       "\n",
       "    .dataframe thead th {\n",
       "        text-align: right;\n",
       "    }\n",
       "</style>\n",
       "<table border=\"1\" class=\"dataframe\">\n",
       "  <thead>\n",
       "    <tr style=\"text-align: right;\">\n",
       "      <th></th>\n",
       "      <th>Variable</th>\n",
       "      <th>N</th>\n",
       "      <th>Mean</th>\n",
       "      <th>SD</th>\n",
       "      <th>SE</th>\n",
       "      <th>95% Conf.</th>\n",
       "      <th>Interval</th>\n",
       "    </tr>\n",
       "  </thead>\n",
       "  <tbody>\n",
       "    <tr>\n",
       "      <th>0</th>\n",
       "      <td>VárhatóÉletkor</td>\n",
       "      <td>1704.0</td>\n",
       "      <td>59.5</td>\n",
       "      <td>12.9</td>\n",
       "      <td>0.3</td>\n",
       "      <td>58.9</td>\n",
       "      <td>60.1</td>\n",
       "    </tr>\n",
       "    <tr>\n",
       "      <th>1</th>\n",
       "      <td>Népesség</td>\n",
       "      <td>1704.0</td>\n",
       "      <td>29601212.3</td>\n",
       "      <td>106157896.7</td>\n",
       "      <td>2571683.5</td>\n",
       "      <td>24557220.5</td>\n",
       "      <td>34645204.1</td>\n",
       "    </tr>\n",
       "    <tr>\n",
       "      <th>2</th>\n",
       "      <td>GdpPerFő</td>\n",
       "      <td>1704.0</td>\n",
       "      <td>7215.3</td>\n",
       "      <td>9857.5</td>\n",
       "      <td>238.8</td>\n",
       "      <td>6747.0</td>\n",
       "      <td>7683.7</td>\n",
       "    </tr>\n",
       "  </tbody>\n",
       "</table>\n",
       "</div>"
      ],
      "text/plain": [
       "         Variable      N       Mean          SD        SE  95% Conf.  \\\n",
       "0  VárhatóÉletkor 1704.0       59.5        12.9       0.3       58.9   \n",
       "1        Népesség 1704.0 29601212.3 106157896.7 2571683.5 24557220.5   \n",
       "2        GdpPerFő 1704.0     7215.3      9857.5     238.8     6747.0   \n",
       "\n",
       "    Interval  \n",
       "0       60.1  \n",
       "1 34645204.1  \n",
       "2     7683.7  "
      ]
     },
     "execution_count": 9,
     "metadata": {},
     "output_type": "execute_result"
    }
   ],
   "source": [
    "rp.summary_cont(df[['VárhatóÉletkor', 'Népesség', 'GdpPerFő']])"
   ]
  },
  {
   "cell_type": "code",
   "execution_count": 10,
   "metadata": {},
   "outputs": [
    {
     "data": {
      "text/html": [
       "<div>\n",
       "<style scoped>\n",
       "    .dataframe tbody tr th:only-of-type {\n",
       "        vertical-align: middle;\n",
       "    }\n",
       "\n",
       "    .dataframe tbody tr th {\n",
       "        vertical-align: top;\n",
       "    }\n",
       "\n",
       "    .dataframe thead th {\n",
       "        text-align: right;\n",
       "    }\n",
       "</style>\n",
       "<table border=\"1\" class=\"dataframe\">\n",
       "  <thead>\n",
       "    <tr style=\"text-align: right;\">\n",
       "      <th></th>\n",
       "      <th>Variable</th>\n",
       "      <th>Outcome</th>\n",
       "      <th>Count</th>\n",
       "      <th>Percent</th>\n",
       "    </tr>\n",
       "  </thead>\n",
       "  <tbody>\n",
       "    <tr>\n",
       "      <th>0</th>\n",
       "      <td>Kontinens</td>\n",
       "      <td>Africa</td>\n",
       "      <td>624</td>\n",
       "      <td>36.6</td>\n",
       "    </tr>\n",
       "    <tr>\n",
       "      <th>1</th>\n",
       "      <td></td>\n",
       "      <td>Asia</td>\n",
       "      <td>396</td>\n",
       "      <td>23.2</td>\n",
       "    </tr>\n",
       "    <tr>\n",
       "      <th>2</th>\n",
       "      <td></td>\n",
       "      <td>Europe</td>\n",
       "      <td>360</td>\n",
       "      <td>21.1</td>\n",
       "    </tr>\n",
       "    <tr>\n",
       "      <th>3</th>\n",
       "      <td></td>\n",
       "      <td>Americas</td>\n",
       "      <td>300</td>\n",
       "      <td>17.6</td>\n",
       "    </tr>\n",
       "    <tr>\n",
       "      <th>4</th>\n",
       "      <td></td>\n",
       "      <td>Oceania</td>\n",
       "      <td>24</td>\n",
       "      <td>1.4</td>\n",
       "    </tr>\n",
       "  </tbody>\n",
       "</table>\n",
       "</div>"
      ],
      "text/plain": [
       "    Variable   Outcome  Count  Percent\n",
       "0  Kontinens    Africa    624     36.6\n",
       "1                 Asia    396     23.2\n",
       "2               Europe    360     21.1\n",
       "3             Americas    300     17.6\n",
       "4              Oceania     24      1.4"
      ]
     },
     "execution_count": 10,
     "metadata": {},
     "output_type": "execute_result"
    }
   ],
   "source": [
    "rp.summary_cat(df['Kontinens'])"
   ]
  },
  {
   "cell_type": "markdown",
   "metadata": {},
   "source": [
    "### Egy főre jutó GDP 2007-ben Boxplot"
   ]
  },
  {
   "cell_type": "code",
   "execution_count": 11,
   "metadata": {
    "scrolled": true
   },
   "outputs": [
    {
     "data": {
      "text/plain": [
       "<matplotlib.axes._subplots.AxesSubplot at 0x2cbe7d6b748>"
      ]
     },
     "execution_count": 11,
     "metadata": {},
     "output_type": "execute_result"
    },
    {
     "data": {
      "image/png": "[encoded data removed]",
      "text/plain": [
       "<Figure size 432x288 with 1 Axes>"
      ]
     },
     "metadata": {
      "needs_background": "light"
     },
     "output_type": "display_data"
    }
   ],
   "source": [
    "sns.boxplot(data=df[df['Év'] == 2007], x=['GdpPerFő'], orient='v')"
   ]
  },
  {
   "cell_type": "code",
   "execution_count": 31,
   "metadata": {},
   "outputs": [
    {
     "data": {
      "text/html": [
       "<div>\n",
       "<style scoped>\n",
       "    .dataframe tbody tr th:only-of-type {\n",
       "        vertical-align: middle;\n",
       "    }\n",
       "\n",
       "    .dataframe tbody tr th {\n",
       "        vertical-align: top;\n",
       "    }\n",
       "\n",
       "    .dataframe thead th {\n",
       "        text-align: right;\n",
       "    }\n",
       "</style>\n",
       "<table border=\"1\" class=\"dataframe\">\n",
       "  <thead>\n",
       "    <tr style=\"text-align: right;\">\n",
       "      <th></th>\n",
       "      <th>Év</th>\n",
       "      <th>VárhatóÉletkor</th>\n",
       "      <th>Népesség</th>\n",
       "      <th>GdpPerFő</th>\n",
       "    </tr>\n",
       "  </thead>\n",
       "  <tbody>\n",
       "    <tr>\n",
       "      <th>Év</th>\n",
       "      <td>1.0</td>\n",
       "      <td>0.4</td>\n",
       "      <td>0.1</td>\n",
       "      <td>0.2</td>\n",
       "    </tr>\n",
       "    <tr>\n",
       "      <th>VárhatóÉletkor</th>\n",
       "      <td>0.4</td>\n",
       "      <td>1.0</td>\n",
       "      <td>0.1</td>\n",
       "      <td>0.6</td>\n",
       "    </tr>\n",
       "    <tr>\n",
       "      <th>Népesség</th>\n",
       "      <td>0.1</td>\n",
       "      <td>0.1</td>\n",
       "      <td>1.0</td>\n",
       "      <td>-0.0</td>\n",
       "    </tr>\n",
       "    <tr>\n",
       "      <th>GdpPerFő</th>\n",
       "      <td>0.2</td>\n",
       "      <td>0.6</td>\n",
       "      <td>-0.0</td>\n",
       "      <td>1.0</td>\n",
       "    </tr>\n",
       "  </tbody>\n",
       "</table>\n",
       "</div>"
      ],
      "text/plain": [
       "                Év  VárhatóÉletkor  Népesség  GdpPerFő\n",
       "Év             1.0             0.4       0.1       0.2\n",
       "VárhatóÉletkor 0.4             1.0       0.1       0.6\n",
       "Népesség       0.1             0.1       1.0      -0.0\n",
       "GdpPerFő       0.2             0.6      -0.0       1.0"
      ]
     },
     "execution_count": 31,
     "metadata": {},
     "output_type": "execute_result"
    }
   ],
   "source": [
    "df.corr()"
   ]
  },
  {
   "cell_type": "markdown",
   "metadata": {},
   "source": [
    "### Egy főre jutó GDP 2007-ben Boxplot"
   ]
  },
  {
   "cell_type": "code",
   "execution_count": 12,
   "metadata": {},
   "outputs": [
    {
     "data": {
      "image/png": "[encoded data removed]",
      "text/plain": [
       "<Figure size 1008x504 with 1 Axes>"
      ]
     },
     "metadata": {
      "needs_background": "light"
     },
     "output_type": "display_data"
    }
   ],
   "source": [
    "fig, ax = plt.subplots()\n",
    "\n",
    "ax.boxplot((df[df['Év'] == 2007].GdpPerFő), vert=False, showmeans=True, meanline=True,\n",
    "           patch_artist=True,                               #Boxplot kitöltése kékkel\n",
    "           medianprops={'linewidth': 2, 'color': 'purple'}, #Medián vonal\n",
    "           meanprops={'linewidth': 2, 'color': 'red'})      #Átlag vonal\n",
    "\n",
    "fig.set_figheight(7)\n",
    "fig.set_figwidth(14)"
   ]
  },
  {
   "cell_type": "markdown",
   "metadata": {},
   "source": [
    "### 2007-ben 40000-nél nagyobb egy főre jutó GDP országai"
   ]
  },
  {
   "cell_type": "code",
   "execution_count": 13,
   "metadata": {},
   "outputs": [
    {
     "data": {
      "text/html": [
       "<div>\n",
       "<style scoped>\n",
       "    .dataframe tbody tr th:only-of-type {\n",
       "        vertical-align: middle;\n",
       "    }\n",
       "\n",
       "    .dataframe tbody tr th {\n",
       "        vertical-align: top;\n",
       "    }\n",
       "\n",
       "    .dataframe thead th {\n",
       "        text-align: right;\n",
       "    }\n",
       "</style>\n",
       "<table border=\"1\" class=\"dataframe\">\n",
       "  <thead>\n",
       "    <tr style=\"text-align: right;\">\n",
       "      <th></th>\n",
       "      <th>Ország</th>\n",
       "      <th>Kontinens</th>\n",
       "      <th>Év</th>\n",
       "      <th>VárhatóÉletkor</th>\n",
       "      <th>Népesség</th>\n",
       "      <th>GdpPerFő</th>\n",
       "    </tr>\n",
       "  </thead>\n",
       "  <tbody>\n",
       "    <tr>\n",
       "      <th>755</th>\n",
       "      <td>Ireland</td>\n",
       "      <td>Europe</td>\n",
       "      <td>2007</td>\n",
       "      <td>78.9</td>\n",
       "      <td>4109086</td>\n",
       "      <td>40676.0</td>\n",
       "    </tr>\n",
       "    <tr>\n",
       "      <th>863</th>\n",
       "      <td>Kuwait</td>\n",
       "      <td>Asia</td>\n",
       "      <td>2007</td>\n",
       "      <td>77.6</td>\n",
       "      <td>2505559</td>\n",
       "      <td>47307.0</td>\n",
       "    </tr>\n",
       "    <tr>\n",
       "      <th>1151</th>\n",
       "      <td>Norway</td>\n",
       "      <td>Europe</td>\n",
       "      <td>2007</td>\n",
       "      <td>80.2</td>\n",
       "      <td>4627926</td>\n",
       "      <td>49357.2</td>\n",
       "    </tr>\n",
       "    <tr>\n",
       "      <th>1367</th>\n",
       "      <td>Singapore</td>\n",
       "      <td>Asia</td>\n",
       "      <td>2007</td>\n",
       "      <td>80.0</td>\n",
       "      <td>4553009</td>\n",
       "      <td>47143.2</td>\n",
       "    </tr>\n",
       "    <tr>\n",
       "      <th>1619</th>\n",
       "      <td>United States</td>\n",
       "      <td>Americas</td>\n",
       "      <td>2007</td>\n",
       "      <td>78.2</td>\n",
       "      <td>301139947</td>\n",
       "      <td>42951.7</td>\n",
       "    </tr>\n",
       "  </tbody>\n",
       "</table>\n",
       "</div>"
      ],
      "text/plain": [
       "             Ország Kontinens    Év  VárhatóÉletkor   Népesség  GdpPerFő\n",
       "755         Ireland    Europe  2007            78.9    4109086   40676.0\n",
       "863          Kuwait      Asia  2007            77.6    2505559   47307.0\n",
       "1151         Norway    Europe  2007            80.2    4627926   49357.2\n",
       "1367      Singapore      Asia  2007            80.0    4553009   47143.2\n",
       "1619  United States  Americas  2007            78.2  301139947   42951.7"
      ]
     },
     "execution_count": 13,
     "metadata": {},
     "output_type": "execute_result"
    }
   ],
   "source": [
    "df[(df['GdpPerFő'] > 40000) & (df['Év'] == 2007)]"
   ]
  },
  {
   "cell_type": "markdown",
   "metadata": {},
   "source": [
    "### Kuwait és Norvégia egy főre jutó GDP-jének alakulása évenként"
   ]
  },
  {
   "cell_type": "code",
   "execution_count": 14,
   "metadata": {},
   "outputs": [
    {
     "data": {
      "image/png": "[encoded data removed]",
      "text/plain": [
       "<Figure size 1008x504 with 1 Axes>"
      ]
     },
     "metadata": {
      "needs_background": "light"
     },
     "output_type": "display_data"
    }
   ],
   "source": [
    "fig, ax = plt.subplots()\n",
    "\n",
    "ax.plot(df[df['Ország'] == 'Kuwait'].Év, df[df['Ország'] == 'Kuwait'].GdpPerFő, label='Kuwait')\n",
    "ax.plot(df[df['Ország'] == 'Norway'].Év, df[df['Ország'] == 'Norway'].GdpPerFő, label='Norway')\n",
    "\n",
    "ax.set_xlabel('Év')\n",
    "ax.set_ylabel('Gdp per fő')\n",
    "ax.set_title('Egy főre jutó GDP alakulása évenként')\n",
    "ax.legend()\n",
    "\n",
    "fig.set_figheight(7)\n",
    "fig.set_figwidth(14)"
   ]
  },
  {
   "cell_type": "markdown",
   "metadata": {},
   "source": [
    "### Pairplot"
   ]
  },
  {
   "cell_type": "code",
   "execution_count": 15,
   "metadata": {},
   "outputs": [
    {
     "data": {
      "text/plain": [
       "<seaborn.axisgrid.PairGrid at 0x2cbe80b3448>"
      ]
     },
     "execution_count": 15,
     "metadata": {},
     "output_type": "execute_result"
    },
    {
     "data": {
      "image/png": "[encoded data removed]",
      "text/plain": [
       "<Figure size 720x720 with 20 Axes>"
      ]
     },
     "metadata": {
      "needs_background": "light"
     },
     "output_type": "display_data"
    }
   ],
   "source": [
    "sns.pairplot(df[df.Év == 2007])"
   ]
  },
  {
   "cell_type": "markdown",
   "metadata": {},
   "source": [
    "### Korreláció mátrix"
   ]
  },
  {
   "cell_type": "code",
   "execution_count": 16,
   "metadata": {},
   "outputs": [
    {
     "data": {
      "text/html": [
       "<div>\n",
       "<style scoped>\n",
       "    .dataframe tbody tr th:only-of-type {\n",
       "        vertical-align: middle;\n",
       "    }\n",
       "\n",
       "    .dataframe tbody tr th {\n",
       "        vertical-align: top;\n",
       "    }\n",
       "\n",
       "    .dataframe thead th {\n",
       "        text-align: right;\n",
       "    }\n",
       "</style>\n",
       "<table border=\"1\" class=\"dataframe\">\n",
       "  <thead>\n",
       "    <tr style=\"text-align: right;\">\n",
       "      <th></th>\n",
       "      <th>Év</th>\n",
       "      <th>VárhatóÉletkor</th>\n",
       "      <th>Népesség</th>\n",
       "      <th>GdpPerFő</th>\n",
       "    </tr>\n",
       "  </thead>\n",
       "  <tbody>\n",
       "    <tr>\n",
       "      <th>Év</th>\n",
       "      <td>1.0</td>\n",
       "      <td>0.4</td>\n",
       "      <td>0.1</td>\n",
       "      <td>0.2</td>\n",
       "    </tr>\n",
       "    <tr>\n",
       "      <th>VárhatóÉletkor</th>\n",
       "      <td>0.4</td>\n",
       "      <td>1.0</td>\n",
       "      <td>0.1</td>\n",
       "      <td>0.6</td>\n",
       "    </tr>\n",
       "    <tr>\n",
       "      <th>Népesség</th>\n",
       "      <td>0.1</td>\n",
       "      <td>0.1</td>\n",
       "      <td>1.0</td>\n",
       "      <td>-0.0</td>\n",
       "    </tr>\n",
       "    <tr>\n",
       "      <th>GdpPerFő</th>\n",
       "      <td>0.2</td>\n",
       "      <td>0.6</td>\n",
       "      <td>-0.0</td>\n",
       "      <td>1.0</td>\n",
       "    </tr>\n",
       "  </tbody>\n",
       "</table>\n",
       "</div>"
      ],
      "text/plain": [
       "                Év  VárhatóÉletkor  Népesség  GdpPerFő\n",
       "Év             1.0             0.4       0.1       0.2\n",
       "VárhatóÉletkor 0.4             1.0       0.1       0.6\n",
       "Népesség       0.1             0.1       1.0      -0.0\n",
       "GdpPerFő       0.2             0.6      -0.0       1.0"
      ]
     },
     "execution_count": 16,
     "metadata": {},
     "output_type": "execute_result"
    }
   ],
   "source": [
    "df.corr()"
   ]
  },
  {
   "cell_type": "markdown",
   "metadata": {},
   "source": [
    "### Pearson p, Spearman rho, Kendall tau"
   ]
  },
  {
   "cell_type": "code",
   "execution_count": 17,
   "metadata": {
    "scrolled": true
   },
   "outputs": [
    {
     "name": "stdout",
     "output_type": "stream",
     "text": [
      "   Pearson p:  (0.5837062197812722, 3.565724696792518e-156)\n",
      "Spearman rho:  SpearmanrResult(correlation=0.8264711811970715, pvalue=0.0)\n",
      " Kendall tau:  KendalltauResult(correlation=0.6369106595644447, pvalue=0.0)\n"
     ]
    }
   ],
   "source": [
    "import scipy.stats\n",
    "\n",
    "print('   Pearson p: ', scipy.stats.pearsonr(df['GdpPerFő'], df['VárhatóÉletkor']))\n",
    "print('Spearman rho: ', scipy.stats.spearmanr(df['GdpPerFő'], df['VárhatóÉletkor']))\n",
    "print(' Kendall tau: ', scipy.stats.kendalltau(df['GdpPerFő'], df['VárhatóÉletkor']))"
   ]
  },
  {
   "cell_type": "markdown",
   "metadata": {},
   "source": [
    "### Logaritmikus regresszió"
   ]
  },
  {
   "cell_type": "code",
   "execution_count": 18,
   "metadata": {
    "scrolled": true
   },
   "outputs": [
    {
     "data": {
      "text/plain": [
       "array([ 8.40508496, -9.10088922])"
      ]
     },
     "execution_count": 18,
     "metadata": {},
     "output_type": "execute_result"
    }
   ],
   "source": [
    "np.polyfit(np.log(df['GdpPerFő']), df['VárhatóÉletkor'], 1)"
   ]
  },
  {
   "cell_type": "code",
   "execution_count": 20,
   "metadata": {},
   "outputs": [
    {
     "data": {
      "text/plain": [
       "[<matplotlib.lines.Line2D at 0x2cbe90d3a88>]"
      ]
     },
     "execution_count": 20,
     "metadata": {},
     "output_type": "execute_result"
    },
    {
     "data": {
      "image/png": "[encoded data removed]",
      "text/plain": [
       "<Figure size 864x504 with 1 Axes>"
      ]
     },
     "metadata": {
      "needs_background": "light"
     },
     "output_type": "display_data"
    }
   ],
   "source": [
    "X = df['GdpPerFő']\n",
    "y = df['VárhatóÉletkor']\n",
    "\n",
    "def logFit(x, y):\n",
    "    sumy = np.sum(y)\n",
    "    sumlogx = np.sum(np.log(x))\n",
    "\n",
    "    b = (X.size*np.sum(y*np.log(X)) - sumy*sumlogx)/(X.size*np.sum(np.log(X)**2) - sumlogx**2)\n",
    "    a = (sumy - b*sumlogx)/X.size\n",
    "\n",
    "    return a,b\n",
    "\n",
    "def logFunc(x, a, b):\n",
    "    return a + b*np.log(x)\n",
    "\n",
    "plt.figure(figsize=(12, 7))\n",
    "plt.plot(X, y, ls=\"none\", marker='.', markersize=10, alpha=0.7)\n",
    "\n",
    "xfit = np.linspace(1, 120000, num=1704)\n",
    "\n",
    "plt.plot(xfit, logFunc(xfit, *logFit(X,y)), linewidth=2)"
   ]
  },
  {
   "cell_type": "code",
   "execution_count": 23,
   "metadata": {},
   "outputs": [
    {
     "name": "stdout",
     "output_type": "stream",
     "text": [
      "solution:\n",
      "8.405085 log(x) + -9.100889 = y\n"
     ]
    },
    {
     "data": {
      "image/png": "[encoded data removed]",
      "text/plain": [
       "<Figure size 864x504 with 1 Axes>"
      ]
     },
     "metadata": {
      "needs_background": "light"
     },
     "output_type": "display_data"
    }
   ],
   "source": [
    "plt.figure(figsize=(12, 7))\n",
    "plt.scatter(X, y, color='b', alpha=0.5)\n",
    "\n",
    "# do fit\n",
    "tmp_A = []\n",
    "tmp_B = []\n",
    "\n",
    "for i, d in enumerate(X):\n",
    "    tmp_A.append([np.log(d), 1])\n",
    "    tmp_B.append(y[i])\n",
    "    \n",
    "B = np.matrix(tmp_B).T\n",
    "A = np.matrix(tmp_A)\n",
    "\n",
    "fit = (A.T * A).I * A.T * B\n",
    "\n",
    "print(\"solution:\")\n",
    "print(\"%f log(x) + %f = y\" % (fit[0], fit[1]))\n",
    "\n",
    "# plot fit\n",
    "fit_x = range(1, 120000)\n",
    "fit_y = [float(fit[0]) * np.log(x) + float(fit[1]) for x in fit_x]\n",
    "plt.plot(fit_x, fit_y, color='orange', linewidth=2)\n",
    "\n",
    "plt.xlabel('x')\n",
    "plt.ylabel('y')\n",
    "plt.show()"
   ]
  },
  {
   "cell_type": "markdown",
   "metadata": {},
   "source": [
    "#### Prediction"
   ]
  },
  {
   "cell_type": "code",
   "execution_count": 25,
   "metadata": {},
   "outputs": [
    {
     "data": {
      "text/plain": [
       "71.26010497309714"
      ]
     },
     "execution_count": 25,
     "metadata": {},
     "output_type": "execute_result"
    }
   ],
   "source": [
    "def predict_log(x):\n",
    "    return (fit[0]*np.log(x)+fit[1])[0, 0]\n",
    "\n",
    "predict_log(14200)"
   ]
  },
  {
   "cell_type": "markdown",
   "metadata": {},
   "source": [
    "#### R^2 score"
   ]
  },
  {
   "cell_type": "code",
   "execution_count": 27,
   "metadata": {},
   "outputs": [
    {
     "name": "stdout",
     "output_type": "stream",
     "text": [
      "R^2:  0.6522466389710054\n"
     ]
    }
   ],
   "source": [
    "from sklearn.metrics import r2_score\n",
    "\n",
    "ylog_predicted = list(map(predict_log, X))\n",
    "print('R^2: ', r2_score(y, ylog_predicted)) #(tényleges, predicted)"
   ]
  },
  {
   "cell_type": "code",
   "execution_count": null,
   "metadata": {},
   "outputs": [],
   "source": []
  },
  {
   "cell_type": "markdown",
   "metadata": {},
   "source": [
    "###   \n",
    "### Logaritmikus regresszió from scratch"
   ]
  },
  {
   "cell_type": "code",
   "execution_count": null,
   "metadata": {},
   "outputs": [],
   "source": [
    "log_X = np.log(X)\n",
    "\n",
    "plt.figure(figsize=(12, 7))\n",
    "sns.regplot(x=log_X, y=y) #log(X), y"
   ]
  },
  {
   "cell_type": "code",
   "execution_count": null,
   "metadata": {},
   "outputs": [],
   "source": [
    "stats.linregress(np.log(X), y)"
   ]
  },
  {
   "cell_type": "markdown",
   "metadata": {},
   "source": [
    "#### B1 értéke"
   ]
  },
  {
   "cell_type": "code",
   "execution_count": null,
   "metadata": {},
   "outputs": [],
   "source": [
    "számláló = 0\n",
    "nevező = 0\n",
    "\n",
    "for a, b in zip(log_X, y):\n",
    "    számláló += (a-np.mean(log_X))*(b-np.mean(y))  #B1 számlálója:  SUM[ (Xi - X_átlag)*(Yi-Y_átlag) ]\n",
    "    nevező += (a-np.mean(log_X))**2                #B1 nevezője:   (Xi-X_átlag)**2\n",
    "    \n",
    "B1 = számláló/nevező\n",
    "print('B1: ', B1)"
   ]
  },
  {
   "cell_type": "markdown",
   "metadata": {},
   "source": [
    "#### B0 értéke"
   ]
  },
  {
   "cell_type": "code",
   "execution_count": null,
   "metadata": {},
   "outputs": [],
   "source": [
    "B0 = np.mean(y)-B1*np.mean(log_X)                 #B0: Y_átlag - B1*Xátlag\n",
    "print('B0: ', B0)"
   ]
  },
  {
   "cell_type": "code",
   "execution_count": null,
   "metadata": {},
   "outputs": [],
   "source": [
    "plt.figure(figsize=(12, 7))\n",
    "plt.scatter(log_X, y, alpha=0.8)\n",
    "\n",
    "vonal_x = np.linspace(np.min(log_X)-0.4, np.max(log_X)+0.2, 2)\n",
    "vonal_y = (B0 + B1*(vonal_x))\n",
    "\n",
    "plt.plot(vonal_x, vonal_y, c='darkviolet', linewidth=3)\n",
    "plt.show()"
   ]
  },
  {
   "cell_type": "code",
   "execution_count": null,
   "metadata": {},
   "outputs": [],
   "source": [
    "plt.figure(figsize=(12, 7))\n",
    "plt.scatter(X, y, alpha=0.8)\n",
    "\n",
    "x_vonal = np.linspace(20, 120000, 120000)\n",
    "\n",
    "plt.plot(x_vonal, B0 + B1*np.log(x_vonal), c='darkviolet', linewidth=3,  label=('{0:.2f}'.format(B0),' + ','{0:.2f}'.format(B1), '*log(X)')) #Y = B0 + log(B1*X)\n",
    "plt.legend()\n",
    "plt.show()"
   ]
  },
  {
   "cell_type": "markdown",
   "metadata": {},
   "source": [
    "#### Prediction"
   ]
  },
  {
   "cell_type": "code",
   "execution_count": null,
   "metadata": {},
   "outputs": [],
   "source": [
    "def log_predict(x):\n",
    "    return B0 + B1*np.log(x)\n",
    "\n",
    "log_predict(200)"
   ]
  },
  {
   "cell_type": "markdown",
   "metadata": {},
   "source": [
    "#### R^2"
   ]
  },
  {
   "cell_type": "code",
   "execution_count": null,
   "metadata": {},
   "outputs": [],
   "source": [
    "from sklearn.metrics import r2_score\n",
    "\n",
    "ylog_predicted = list(map(log_predict, x))\n",
    "print('R^2: ', r2_score(y, ylog_predicted)) #(tényleges, predicted)"
   ]
  },
  {
   "cell_type": "code",
   "execution_count": 21,
   "metadata": {},
   "outputs": [
    {
     "ename": "NameError",
     "evalue": "name 'B0' is not defined",
     "output_type": "error",
     "traceback": [
      "\u001b[1;31m---------------------------------------------------------------------------\u001b[0m",
      "\u001b[1;31mNameError\u001b[0m                                 Traceback (most recent call last)",
      "\u001b[1;32m<ipython-input-21-cc6dd0c36214>\u001b[0m in \u001b[0;36m<module>\u001b[1;34m\u001b[0m\n\u001b[0;32m      2\u001b[0m     \u001b[1;32mreturn\u001b[0m \u001b[0mB0\u001b[0m \u001b[1;33m+\u001b[0m \u001b[0mB1\u001b[0m\u001b[1;33m*\u001b[0m\u001b[0mnp\u001b[0m\u001b[1;33m.\u001b[0m\u001b[0mlog\u001b[0m\u001b[1;33m(\u001b[0m\u001b[0mx\u001b[0m\u001b[1;33m)\u001b[0m\u001b[1;33m\u001b[0m\u001b[1;33m\u001b[0m\u001b[0m\n\u001b[0;32m      3\u001b[0m \u001b[1;33m\u001b[0m\u001b[0m\n\u001b[1;32m----> 4\u001b[1;33m \u001b[0mlog_predict\u001b[0m\u001b[1;33m(\u001b[0m\u001b[1;36m14200\u001b[0m\u001b[1;33m)\u001b[0m\u001b[1;33m\u001b[0m\u001b[1;33m\u001b[0m\u001b[0m\n\u001b[0m",
      "\u001b[1;32m<ipython-input-21-cc6dd0c36214>\u001b[0m in \u001b[0;36mlog_predict\u001b[1;34m(x)\u001b[0m\n\u001b[0;32m      1\u001b[0m \u001b[1;32mdef\u001b[0m \u001b[0mlog_predict\u001b[0m\u001b[1;33m(\u001b[0m\u001b[0mx\u001b[0m\u001b[1;33m)\u001b[0m\u001b[1;33m:\u001b[0m\u001b[1;33m\u001b[0m\u001b[1;33m\u001b[0m\u001b[0m\n\u001b[1;32m----> 2\u001b[1;33m     \u001b[1;32mreturn\u001b[0m \u001b[0mB0\u001b[0m \u001b[1;33m+\u001b[0m \u001b[0mB1\u001b[0m\u001b[1;33m*\u001b[0m\u001b[0mnp\u001b[0m\u001b[1;33m.\u001b[0m\u001b[0mlog\u001b[0m\u001b[1;33m(\u001b[0m\u001b[0mx\u001b[0m\u001b[1;33m)\u001b[0m\u001b[1;33m\u001b[0m\u001b[1;33m\u001b[0m\u001b[0m\n\u001b[0m\u001b[0;32m      3\u001b[0m \u001b[1;33m\u001b[0m\u001b[0m\n\u001b[0;32m      4\u001b[0m \u001b[0mlog_predict\u001b[0m\u001b[1;33m(\u001b[0m\u001b[1;36m14200\u001b[0m\u001b[1;33m)\u001b[0m\u001b[1;33m\u001b[0m\u001b[1;33m\u001b[0m\u001b[0m\n",
      "\u001b[1;31mNameError\u001b[0m: name 'B0' is not defined"
     ]
    }
   ],
   "source": [
    "def log_predict(x):\n",
    "    return B0 + B1*np.log(x)\n",
    "\n",
    "log_predict(14200)"
   ]
  },
  {
   "cell_type": "code",
   "execution_count": 29,
   "metadata": {},
   "outputs": [
    {
     "data": {
      "text/plain": [
       "[<matplotlib.lines.Line2D at 0x2cbea33e988>]"
      ]
     },
     "execution_count": 29,
     "metadata": {},
     "output_type": "execute_result"
    },
    {
     "data": {
      "image/png": "[encoded data removed]",
      "text/plain": [
       "<Figure size 1008x576 with 1 Axes>"
      ]
     },
     "metadata": {
      "needs_background": "light"
     },
     "output_type": "display_data"
    }
   ],
   "source": [
    "plt.figure(figsize=(14, 8))\n",
    "plt.plot(df[df['Ország'] == 'Hungary'].Év, df[df['Ország'] == 'Hungary'].GdpPerFő)"
   ]
  },
  {
   "cell_type": "code",
   "execution_count": 30,
   "metadata": {},
   "outputs": [
    {
     "data": {
      "image/png": "[encoded data removed]",
      "text/plain": [
       "<Figure size 1008x504 with 1 Axes>"
      ]
     },
     "metadata": {
      "needs_background": "light"
     },
     "output_type": "display_data"
    }
   ],
   "source": [
    "fig, ax = plt.subplots()\n",
    "\n",
    "ax.plot(df[df['Ország'] == 'Hungary'].Év, df[df['Ország'] == 'Hungary'].GdpPerFő, label='Magyarország')\n",
    "ax.plot(df[df['Ország'] == 'Germany'].Év, df[df['Ország'] == 'Germany'].GdpPerFő, label='Németország')\n",
    "\n",
    "ax.set_xlabel('Év')\n",
    "ax.set_ylabel('Várható élettartam')\n",
    "ax.set_title('Várható élettartam alakulása évenként')\n",
    "ax.legend()\n",
    "\n",
    "fig.set_figheight(7)\n",
    "fig.set_figwidth(14)"
   ]
  },
  {
   "cell_type": "code",
   "execution_count": null,
   "metadata": {},
   "outputs": [],
   "source": []
  }
 ],
 "metadata": {
  "kernelspec": {
   "display_name": "Python 3",
   "language": "python",
   "name": "python3"
  },
  "language_info": {
   "codemirror_mode": {
    "name": "ipython",
    "version": 3
   },
   "file_extension": ".py",
   "mimetype": "text/x-python",
   "name": "python",
   "nbconvert_exporter": "python",
   "pygments_lexer": "ipython3",
   "version": "3.7.4"
  }
 },
 "nbformat": 4,
 "nbformat_minor": 2
}
