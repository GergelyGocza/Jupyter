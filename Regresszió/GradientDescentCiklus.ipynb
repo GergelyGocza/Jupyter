{
 "cells": [
  {
   "cell_type": "markdown",
   "metadata": {},
   "source": [
    "### Könyvtárak importálása"
   ]
  },
  {
   "cell_type": "code",
   "execution_count": 1,
   "metadata": {},
   "outputs": [],
   "source": [
    "import pandas as pd\n",
    "import numpy as np\n",
    "import researchpy as rp\n",
    "from scipy import stats\n",
    "import matplotlib.pyplot as plt\n",
    "import seaborn as sns\n",
    "import plotly.express as px\n",
    "import plotly.graph_objects as go"
   ]
  },
  {
   "cell_type": "markdown",
   "metadata": {},
   "source": [
    "### X és y adatok generálása"
   ]
  },
  {
   "cell_type": "code",
   "execution_count": 2,
   "metadata": {},
   "outputs": [],
   "source": [
    "X = np.array([1, 2, 3, 4, 5, 6])\n",
    "y = np.array([3.3, 4.2, 5.4, 6.1, 7.3, 8.2])"
   ]
  },
  {
   "cell_type": "code",
   "execution_count": 3,
   "metadata": {},
   "outputs": [
    {
     "data": {
      "text/html": [
       "<div>\n",
       "<style scoped>\n",
       "    .dataframe tbody tr th:only-of-type {\n",
       "        vertical-align: middle;\n",
       "    }\n",
       "\n",
       "    .dataframe tbody tr th {\n",
       "        vertical-align: top;\n",
       "    }\n",
       "\n",
       "    .dataframe thead th {\n",
       "        text-align: right;\n",
       "    }\n",
       "</style>\n",
       "<table border=\"1\" class=\"dataframe\">\n",
       "  <thead>\n",
       "    <tr style=\"text-align: right;\">\n",
       "      <th></th>\n",
       "      <th>X</th>\n",
       "      <th>y</th>\n",
       "    </tr>\n",
       "  </thead>\n",
       "  <tbody>\n",
       "    <tr>\n",
       "      <th>0</th>\n",
       "      <td>1</td>\n",
       "      <td>3.3</td>\n",
       "    </tr>\n",
       "    <tr>\n",
       "      <th>1</th>\n",
       "      <td>2</td>\n",
       "      <td>4.2</td>\n",
       "    </tr>\n",
       "    <tr>\n",
       "      <th>2</th>\n",
       "      <td>3</td>\n",
       "      <td>5.4</td>\n",
       "    </tr>\n",
       "    <tr>\n",
       "      <th>3</th>\n",
       "      <td>4</td>\n",
       "      <td>6.1</td>\n",
       "    </tr>\n",
       "    <tr>\n",
       "      <th>4</th>\n",
       "      <td>5</td>\n",
       "      <td>7.3</td>\n",
       "    </tr>\n",
       "    <tr>\n",
       "      <th>5</th>\n",
       "      <td>6</td>\n",
       "      <td>8.2</td>\n",
       "    </tr>\n",
       "  </tbody>\n",
       "</table>\n",
       "</div>"
      ],
      "text/plain": [
       "   X    y\n",
       "0  1  3.3\n",
       "1  2  4.2\n",
       "2  3  5.4\n",
       "3  4  6.1\n",
       "4  5  7.3\n",
       "5  6  8.2"
      ]
     },
     "execution_count": 3,
     "metadata": {},
     "output_type": "execute_result"
    }
   ],
   "source": [
    "X = pd.Series(X)\n",
    "y = pd.Series(y)\n",
    "\n",
    "Xy = {'X': X, 'y': y}\n",
    "\n",
    "df = pd.DataFrame(Xy)\n",
    "df"
   ]
  },
  {
   "cell_type": "code",
   "execution_count": 4,
   "metadata": {},
   "outputs": [
    {
     "data": {
      "text/plain": [
       "<matplotlib.collections.PathCollection at 0x1f8dbc16148>"
      ]
     },
     "execution_count": 4,
     "metadata": {},
     "output_type": "execute_result"
    },
    {
     "data": {
      "image/png": "[encoded data removed]",
      "text/plain": [
       "<Figure size 432x288 with 1 Axes>"
      ]
     },
     "metadata": {
      "needs_background": "light"
     },
     "output_type": "display_data"
    }
   ],
   "source": [
    "plt.scatter(df.X, df.y)"
   ]
  },
  {
   "cell_type": "markdown",
   "metadata": {},
   "source": [
    "### B0 és B1 kezdőértékének inicializálása"
   ]
  },
  {
   "cell_type": "code",
   "execution_count": 5,
   "metadata": {},
   "outputs": [
    {
     "data": {
      "text/plain": [
       "[<matplotlib.lines.Line2D at 0x1f8dbb90708>]"
      ]
     },
     "execution_count": 5,
     "metadata": {},
     "output_type": "execute_result"
    },
    {
     "data": {
      "image/png": "[encoded data removed]",
      "text/plain": [
       "<Figure size 432x288 with 1 Axes>"
      ]
     },
     "metadata": {
      "needs_background": "light"
     },
     "output_type": "display_data"
    }
   ],
   "source": [
    "B0 = 0\n",
    "B1 = 0\n",
    "\n",
    "y_ = np.array(B0 + df.X*B1)\n",
    "\n",
    "plt.scatter(df.X, df.y)\n",
    "plt.plot(df.X, y_)"
   ]
  },
  {
   "cell_type": "markdown",
   "metadata": {},
   "source": [
    "### Gradient descent függvény írása lépsről lépésre követéshez"
   ]
  },
  {
   "cell_type": "code",
   "execution_count": 7,
   "metadata": {},
   "outputs": [],
   "source": [
    "def y_kalap(b0, b1, x):\n",
    "    return np.array(b0 + np.array(x)*b1)\n",
    "\n",
    "def gradient_descent(b0, b1, x, y):    \n",
    "    db0 = np.sum(y_kalap(b0, b1, x) - np.array(y))\n",
    "    print('B0 derivált: ', db0)\n",
    "\n",
    "    db1 = np.sum((y_kalap(b0, b1, x) - np.array(y))*np.array(x))\n",
    "    print('B1 derivált: ', db1)\n",
    "    \n",
    "    b0 = b0 - db0*0.01\n",
    "    print('B0: ', b0)\n",
    "\n",
    "    b1 = b1 - db1*0.01\n",
    "    print('B1: ', b1)\n",
    "    \n",
    "    y_ = y_kalap(b0, b1, x)\n",
    "    print('y_ hibái: ', np.array(y_) - np.array(y))\n",
    "    hiba = np.sum((np.array(y_) - np.array(y))**2)\n",
    "    print('Összes hiba: ', hiba)\n",
    "    \n",
    "    plt.plot(x, y_)\n",
    "    plt.scatter(x, y)\n",
    "    \n",
    "    return b0, b1"
   ]
  },
  {
   "cell_type": "markdown",
   "metadata": {},
   "source": [
    "### Gradient descent függvény írása ciklushoz"
   ]
  },
  {
   "cell_type": "code",
   "execution_count": 8,
   "metadata": {},
   "outputs": [],
   "source": [
    "def gradient_descent_ciklushoz(b0, b1, x, y):    \n",
    "    db0 = np.sum(y_kalap(b0, b1, x) - np.array(y))\n",
    "    db1 = np.sum((y_kalap(b0, b1, x) - np.array(y))*np.array(x))\n",
    "    \n",
    "    b0 = b0 - db0*0.01\n",
    "    b1 = b1 - db1*0.01\n",
    "    \n",
    "    y_ = y_kalap(b0, b1, x)\n",
    "    hiba = np.sum((np.array(y_) - np.array(y))**2)\n",
    "    \n",
    "    return b0, b1, y_, hiba"
   ]
  },
  {
   "cell_type": "markdown",
   "metadata": {},
   "source": [
    "### Gradient descent függvény futtatása ciklusban"
   ]
  },
  {
   "cell_type": "code",
   "execution_count": 13,
   "metadata": {},
   "outputs": [
    {
     "name": "stdout",
     "output_type": "stream",
     "text": [
      "B0:  2.2999999999999803\n",
      "B1:  0.9857142857142902\n",
      "Hiba:  0.05142857142857162\n"
     ]
    },
    {
     "data": {
      "image/png": "[encoded data removed]",
      "text/plain": [
       "<Figure size 864x504 with 1 Axes>"
      ]
     },
     "metadata": {
      "needs_background": "light"
     },
     "output_type": "display_data"
    }
   ],
   "source": [
    "for i in range(1000):\n",
    "    B0, B1, y_, hiba = gradient_descent_ciklushoz(B0, B1, df.X, df.y)\n",
    "\n",
    "plt.figure(figsize=(12, 7))\n",
    "plt.plot(df.X, y_, c='orange')\n",
    "plt.scatter(df.X, df.y, label=('{0:.2f}'.format(B0),' + ','{0:.2f}'.format(B1), 'X'))\n",
    "plt.legend()\n",
    "print('B0: ', B0)\n",
    "print('B1: ', B1)\n",
    "print('Hiba: ', hiba)"
   ]
  },
  {
   "cell_type": "code",
   "execution_count": null,
   "metadata": {},
   "outputs": [],
   "source": []
  }
 ],
 "metadata": {
  "kernelspec": {
   "display_name": "Python 3",
   "language": "python",
   "name": "python3"
  },
  "language_info": {
   "codemirror_mode": {
    "name": "ipython",
    "version": 3
   },
   "file_extension": ".py",
   "mimetype": "text/x-python",
   "name": "python",
   "nbconvert_exporter": "python",
   "pygments_lexer": "ipython3",
   "version": "3.7.4"
  }
 },
 "nbformat": 4,
 "nbformat_minor": 2
}
