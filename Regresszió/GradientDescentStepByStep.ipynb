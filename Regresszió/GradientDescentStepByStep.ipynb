{
 "cells": [
  {
   "cell_type": "markdown",
   "metadata": {},
   "source": [
    "### Könyvtárak importálása"
   ]
  },
  {
   "cell_type": "code",
   "execution_count": 1,
   "metadata": {},
   "outputs": [],
   "source": [
    "import pandas as pd\n",
    "import numpy as np\n",
    "import researchpy as rp\n",
    "from scipy import stats\n",
    "import matplotlib.pyplot as plt\n",
    "import seaborn as sns\n",
    "import plotly.express as px\n",
    "import plotly.graph_objects as go"
   ]
  },
  {
   "cell_type": "markdown",
   "metadata": {},
   "source": [
    "### X és y inicializálása"
   ]
  },
  {
   "cell_type": "code",
   "execution_count": 2,
   "metadata": {},
   "outputs": [],
   "source": [
    "X = np.array([1, 2, 3, 4, 5, 6])\n",
    "y = np.array([3.3, 4.2, 5.4, 6.1, 7.3, 8.2])"
   ]
  },
  {
   "cell_type": "code",
   "execution_count": 3,
   "metadata": {},
   "outputs": [
    {
     "data": {
      "text/html": [
       "<div>\n",
       "<style scoped>\n",
       "    .dataframe tbody tr th:only-of-type {\n",
       "        vertical-align: middle;\n",
       "    }\n",
       "\n",
       "    .dataframe tbody tr th {\n",
       "        vertical-align: top;\n",
       "    }\n",
       "\n",
       "    .dataframe thead th {\n",
       "        text-align: right;\n",
       "    }\n",
       "</style>\n",
       "<table border=\"1\" class=\"dataframe\">\n",
       "  <thead>\n",
       "    <tr style=\"text-align: right;\">\n",
       "      <th></th>\n",
       "      <th>X</th>\n",
       "      <th>y</th>\n",
       "    </tr>\n",
       "  </thead>\n",
       "  <tbody>\n",
       "    <tr>\n",
       "      <th>0</th>\n",
       "      <td>1</td>\n",
       "      <td>3.3</td>\n",
       "    </tr>\n",
       "    <tr>\n",
       "      <th>1</th>\n",
       "      <td>2</td>\n",
       "      <td>4.2</td>\n",
       "    </tr>\n",
       "    <tr>\n",
       "      <th>2</th>\n",
       "      <td>3</td>\n",
       "      <td>5.4</td>\n",
       "    </tr>\n",
       "    <tr>\n",
       "      <th>3</th>\n",
       "      <td>4</td>\n",
       "      <td>6.1</td>\n",
       "    </tr>\n",
       "    <tr>\n",
       "      <th>4</th>\n",
       "      <td>5</td>\n",
       "      <td>7.3</td>\n",
       "    </tr>\n",
       "    <tr>\n",
       "      <th>5</th>\n",
       "      <td>6</td>\n",
       "      <td>8.2</td>\n",
       "    </tr>\n",
       "  </tbody>\n",
       "</table>\n",
       "</div>"
      ],
      "text/plain": [
       "   X    y\n",
       "0  1  3.3\n",
       "1  2  4.2\n",
       "2  3  5.4\n",
       "3  4  6.1\n",
       "4  5  7.3\n",
       "5  6  8.2"
      ]
     },
     "execution_count": 3,
     "metadata": {},
     "output_type": "execute_result"
    }
   ],
   "source": [
    "X = pd.Series(X)\n",
    "y = pd.Series(y)\n",
    "\n",
    "Xy = {'X': X, 'y': y}\n",
    "\n",
    "df = pd.DataFrame(Xy)\n",
    "df"
   ]
  },
  {
   "cell_type": "code",
   "execution_count": 4,
   "metadata": {},
   "outputs": [
    {
     "data": {
      "text/plain": [
       "<matplotlib.collections.PathCollection at 0x18b42236948>"
      ]
     },
     "execution_count": 4,
     "metadata": {},
     "output_type": "execute_result"
    },
    {
     "data": {
      "image/png": "[encoded data removed]",
      "text/plain": [
       "<Figure size 432x288 with 1 Axes>"
      ]
     },
     "metadata": {
      "needs_background": "light"
     },
     "output_type": "display_data"
    }
   ],
   "source": [
    "plt.scatter(df.X, df.y)"
   ]
  },
  {
   "cell_type": "markdown",
   "metadata": {},
   "source": [
    "### Optimális egyenes manuális keresése (B0 = 2, B1 = 1.1)"
   ]
  },
  {
   "cell_type": "code",
   "execution_count": 5,
   "metadata": {},
   "outputs": [
    {
     "data": {
      "text/plain": [
       "0    3.1\n",
       "1    4.2\n",
       "2    5.3\n",
       "3    6.4\n",
       "4    7.5\n",
       "5    8.6\n",
       "Name: X, dtype: float64"
      ]
     },
     "execution_count": 5,
     "metadata": {},
     "output_type": "execute_result"
    }
   ],
   "source": [
    "def egyenes(b0, b1, x):\n",
    "    return b0 + b1*x\n",
    "\n",
    "egyenes = egyenes(2, 1.1, df.X)\n",
    "egyenes"
   ]
  },
  {
   "cell_type": "code",
   "execution_count": 6,
   "metadata": {},
   "outputs": [
    {
     "data": {
      "text/plain": [
       "[<matplotlib.lines.Line2D at 0x18b4336bbc8>]"
      ]
     },
     "execution_count": 6,
     "metadata": {},
     "output_type": "execute_result"
    },
    {
     "data": {
      "image/png": "[encoded data removed]",
      "text/plain": [
       "<Figure size 432x288 with 1 Axes>"
      ]
     },
     "metadata": {
      "needs_background": "light"
     },
     "output_type": "display_data"
    }
   ],
   "source": [
    "plt.scatter(df.X, df.y)\n",
    "plt.plot(df.X, egyenes)\n",
    "#B0 = 2, B1 = 1.1"
   ]
  },
  {
   "cell_type": "code",
   "execution_count": 31,
   "metadata": {},
   "outputs": [
    {
     "data": {
      "text/plain": [
       "[50.73999999999999,\n",
       " 21.93999999999999,\n",
       " 5.139999999999996,\n",
       " 0.34000000000000197,\n",
       " 7.540000000000009,\n",
       " 26.740000000000016]"
      ]
     },
     "execution_count": 31,
     "metadata": {},
     "output_type": "execute_result"
    }
   ],
   "source": [
    "hiba_tomb = []\n",
    "\n",
    "for i in range(len(X)):\n",
    "    hiba = 0\n",
    "    for j in range(len(X)):\n",
    "        hiba += ((i-1) + 1.1*df.X[j] - y[j])**2\n",
    "    hiba_tomb.append(hiba)\n",
    "    \n",
    "hiba_tomb"
   ]
  },
  {
   "cell_type": "code",
   "execution_count": 24,
   "metadata": {},
   "outputs": [
    {
     "data": {
      "text/plain": [
       "[<matplotlib.lines.Line2D at 0x18b43673d48>]"
      ]
     },
     "execution_count": 24,
     "metadata": {},
     "output_type": "execute_result"
    },
    {
     "data": {
      "image/png": "[encoded data removed]",
      "text/plain": [
       "<Figure size 432x288 with 1 Axes>"
      ]
     },
     "metadata": {
      "needs_background": "light"
     },
     "output_type": "display_data"
    }
   ],
   "source": [
    "plt.scatter(X-2, hiba_tomb)\n",
    "plt.plot(X-2, hiba_tomb)"
   ]
  },
  {
   "cell_type": "markdown",
   "metadata": {},
   "source": [
    "### 0. Kezdő állapot (B0 = -1, B1 = 1.1)"
   ]
  },
  {
   "cell_type": "code",
   "execution_count": 7,
   "metadata": {},
   "outputs": [],
   "source": [
    "B0 = -1\n",
    "B1 = 1.1"
   ]
  },
  {
   "cell_type": "code",
   "execution_count": 8,
   "metadata": {},
   "outputs": [
    {
     "data": {
      "text/plain": [
       "0    0.1\n",
       "1    1.2\n",
       "2    2.3\n",
       "3    3.4\n",
       "4    4.5\n",
       "5    5.6\n",
       "Name: X, dtype: float64"
      ]
     },
     "execution_count": 8,
     "metadata": {},
     "output_type": "execute_result"
    }
   ],
   "source": [
    "def egyenes(b0, b1, x):\n",
    "    return b0 + b1*x\n",
    "\n",
    "egyenes_tipp = egyenes(B0, B1, df.X)\n",
    "egyenes_tipp"
   ]
  },
  {
   "cell_type": "code",
   "execution_count": 9,
   "metadata": {},
   "outputs": [
    {
     "data": {
      "text/plain": [
       "[<matplotlib.lines.Line2D at 0x18b4341aec8>]"
      ]
     },
     "execution_count": 9,
     "metadata": {},
     "output_type": "execute_result"
    },
    {
     "data": {
      "image/png": "[encoded data removed]",
      "text/plain": [
       "<Figure size 432x288 with 1 Axes>"
      ]
     },
     "metadata": {
      "needs_background": "light"
     },
     "output_type": "display_data"
    }
   ],
   "source": [
    "plt.scatter(df.X, df.y)\n",
    "plt.plot(df.X, egyenes_tipp)\n",
    "#B0 = 0, B1 = 1.1"
   ]
  },
  {
   "cell_type": "markdown",
   "metadata": {},
   "source": [
    "#### jelenlegi hiba = 50.74"
   ]
  },
  {
   "cell_type": "code",
   "execution_count": 10,
   "metadata": {},
   "outputs": [
    {
     "data": {
      "text/plain": [
       "50.73999999999999"
      ]
     },
     "execution_count": 10,
     "metadata": {},
     "output_type": "execute_result"
    }
   ],
   "source": [
    "hiba_B0 = 0\n",
    "\n",
    "for i in range(len(X)):\n",
    "    hiba_B0 += (B0 + B1*df.X[i] - y[i])**2\n",
    "    \n",
    "hiba_B0"
   ]
  },
  {
   "cell_type": "markdown",
   "metadata": {},
   "source": [
    "### 1. iteráció"
   ]
  },
  {
   "cell_type": "markdown",
   "metadata": {},
   "source": [
    "#### B0 = -1 pontban a hiba parabola függvény meredeksége: -34.8"
   ]
  },
  {
   "cell_type": "code",
   "execution_count": 14,
   "metadata": {},
   "outputs": [
    {
     "name": "stdout",
     "output_type": "stream",
     "text": [
      "-6.3999999999999995\n",
      "-6.0\n",
      "-6.2\n",
      "-5.399999999999999\n",
      "-5.6\n",
      "-5.1999999999999975\n",
      "SUM Derivált hiba:  -34.79999999999999\n"
     ]
    }
   ],
   "source": [
    "derivalt_hiba = 0\n",
    "\n",
    "for i in range(len(X)):\n",
    "    print(2*(B0 + B1*X[i] - y[i]))\n",
    "    derivalt_hiba += 2*(B0 + B1*X[i] - y[i])\n",
    "    \n",
    "print('SUM Derivált hiba: ', derivalt_hiba)"
   ]
  },
  {
   "cell_type": "code",
   "execution_count": 15,
   "metadata": {},
   "outputs": [
    {
     "name": "stdout",
     "output_type": "stream",
     "text": [
      "Új B0:  2.479999999999999\n"
     ]
    }
   ],
   "source": [
    "B0 = B0 - derivalt_hiba * 0.1\n",
    "print('Új B0: ', B0)"
   ]
  },
  {
   "cell_type": "markdown",
   "metadata": {},
   "source": [
    "#### B0 = 2,48, B1 = 1.1"
   ]
  },
  {
   "cell_type": "code",
   "execution_count": 16,
   "metadata": {
    "scrolled": true
   },
   "outputs": [
    {
     "data": {
      "text/plain": [
       "[<matplotlib.lines.Line2D at 0x18b434bdcc8>]"
      ]
     },
     "execution_count": 16,
     "metadata": {},
     "output_type": "execute_result"
    },
    {
     "data": {
      "image/png": "[encoded data removed]",
      "text/plain": [
       "<Figure size 432x288 with 1 Axes>"
      ]
     },
     "metadata": {
      "needs_background": "light"
     },
     "output_type": "display_data"
    }
   ],
   "source": [
    "egyenes_tipp = egyenes(B0, B1, df.X)\n",
    "egyenes_tipp\n",
    "\n",
    "plt.scatter(df.X, df.y)\n",
    "plt.plot(df.X, egyenes_tipp)"
   ]
  },
  {
   "cell_type": "code",
   "execution_count": 25,
   "metadata": {},
   "outputs": [
    {
     "data": {
      "text/plain": [
       "0.280129177600001"
      ]
     },
     "execution_count": 25,
     "metadata": {},
     "output_type": "execute_result"
    }
   ],
   "source": [
    "hiba_B0 = 0\n",
    "\n",
    "for i in range(len(X)):\n",
    "    hiba_B0 += (B0 + B1*df.X[i] - y[i])**2\n",
    "    \n",
    "hiba_B0"
   ]
  },
  {
   "cell_type": "markdown",
   "metadata": {},
   "source": [
    "### 2. iteráció"
   ]
  },
  {
   "cell_type": "markdown",
   "metadata": {},
   "source": [
    "#### B0 = 2,48 pontban a hiba parabola függvény meredeksége: 6,96"
   ]
  },
  {
   "cell_type": "code",
   "execution_count": 17,
   "metadata": {},
   "outputs": [
    {
     "name": "stdout",
     "output_type": "stream",
     "text": [
      "0.5599999999999987\n",
      "0.9599999999999991\n",
      "0.759999999999998\n",
      "1.5599999999999987\n",
      "1.3599999999999977\n",
      "1.7600000000000016\n",
      "SUM Derivált hiba:  6.959999999999994\n"
     ]
    }
   ],
   "source": [
    "derivalt_hiba = 0\n",
    "\n",
    "for i in range(len(X)):\n",
    "    print(2*(B0 + B1*X[i] - y[i]))\n",
    "    derivalt_hiba += 2*(B0 + B1*X[i] - y[i])\n",
    "    \n",
    "print('SUM Derivált hiba: ', derivalt_hiba)"
   ]
  },
  {
   "cell_type": "code",
   "execution_count": 18,
   "metadata": {},
   "outputs": [
    {
     "name": "stdout",
     "output_type": "stream",
     "text": [
      "Új B0:  1.7839999999999998\n"
     ]
    }
   ],
   "source": [
    "B0 = B0 - derivalt_hiba * 0.1\n",
    "print('Új B0: ', B0)"
   ]
  },
  {
   "cell_type": "markdown",
   "metadata": {},
   "source": [
    "#### B0 = 1,78, B1 = 1.1"
   ]
  },
  {
   "cell_type": "code",
   "execution_count": 19,
   "metadata": {},
   "outputs": [
    {
     "data": {
      "text/plain": [
       "[<matplotlib.lines.Line2D at 0x18b434c65c8>]"
      ]
     },
     "execution_count": 19,
     "metadata": {},
     "output_type": "execute_result"
    },
    {
     "data": {
      "image/png": "[encoded data removed]",
      "text/plain": [
       "<Figure size 432x288 with 1 Axes>"
      ]
     },
     "metadata": {
      "needs_background": "light"
     },
     "output_type": "display_data"
    }
   ],
   "source": [
    "egyenes_tipp = egyenes(B0, B1, df.X)\n",
    "egyenes_tipp\n",
    "\n",
    "plt.scatter(df.X, df.y)\n",
    "plt.plot(df.X, egyenes_tipp)"
   ]
  },
  {
   "cell_type": "code",
   "execution_count": 26,
   "metadata": {},
   "outputs": [
    {
     "data": {
      "text/plain": [
       "0.280129177600001"
      ]
     },
     "execution_count": 26,
     "metadata": {},
     "output_type": "execute_result"
    }
   ],
   "source": [
    "hiba_B0 = 0\n",
    "\n",
    "for i in range(len(X)):\n",
    "    hiba_B0 += (B0 + B1*df.X[i] - y[i])**2\n",
    "    \n",
    "hiba_B0"
   ]
  },
  {
   "cell_type": "markdown",
   "metadata": {},
   "source": [
    "### 3. iteráció"
   ]
  },
  {
   "cell_type": "markdown",
   "metadata": {},
   "source": [
    "#### B0 = 1,78 pontban a hiba parabola függvény meredeksége: -1,39"
   ]
  },
  {
   "cell_type": "code",
   "execution_count": 20,
   "metadata": {},
   "outputs": [
    {
     "name": "stdout",
     "output_type": "stream",
     "text": [
      "-0.8319999999999999\n",
      "-0.4320000000000004\n",
      "-0.6320000000000014\n",
      "0.16800000000000104\n",
      "-0.03200000000000003\n",
      "0.3680000000000021\n",
      "SUM Derivált hiba:  -1.3919999999999986\n",
      "Új B0:  1.9231999999999996\n"
     ]
    }
   ],
   "source": [
    "derivalt_hiba = 0\n",
    "\n",
    "for i in range(len(X)):\n",
    "    print(2*(B0 + B1*X[i] - y[i]))\n",
    "    derivalt_hiba += 2*(B0 + B1*X[i] - y[i])\n",
    "    \n",
    "print('SUM Derivált hiba: ', derivalt_hiba)\n",
    "\n",
    "B0 = B0 - derivalt_hiba * 0.1\n",
    "print('Új B0: ', B0)"
   ]
  },
  {
   "cell_type": "markdown",
   "metadata": {},
   "source": [
    "#### B0 = 1,92, B1 = 1.1"
   ]
  },
  {
   "cell_type": "code",
   "execution_count": 21,
   "metadata": {},
   "outputs": [
    {
     "data": {
      "text/plain": [
       "[<matplotlib.lines.Line2D at 0x18b435a2fc8>]"
      ]
     },
     "execution_count": 21,
     "metadata": {},
     "output_type": "execute_result"
    },
    {
     "data": {
      "image/png": "[encoded data removed]",
      "text/plain": [
       "<Figure size 432x288 with 1 Axes>"
      ]
     },
     "metadata": {
      "needs_background": "light"
     },
     "output_type": "display_data"
    }
   ],
   "source": [
    "egyenes_tipp = egyenes(B0, B1, df.X)\n",
    "egyenes_tipp\n",
    "\n",
    "plt.scatter(df.X, df.y)\n",
    "plt.plot(df.X, egyenes_tipp)"
   ]
  },
  {
   "cell_type": "code",
   "execution_count": 27,
   "metadata": {},
   "outputs": [
    {
     "data": {
      "text/plain": [
       "0.280129177600001"
      ]
     },
     "execution_count": 27,
     "metadata": {},
     "output_type": "execute_result"
    }
   ],
   "source": [
    "hiba_B0 = 0\n",
    "\n",
    "for i in range(len(X)):\n",
    "    hiba_B0 += (B0 + B1*df.X[i] - y[i])**2\n",
    "    \n",
    "hiba_B0"
   ]
  },
  {
   "cell_type": "markdown",
   "metadata": {},
   "source": [
    "### 4. iteráció"
   ]
  },
  {
   "cell_type": "markdown",
   "metadata": {},
   "source": [
    "#### B0 = 1,92 pontban a hiba parabola függvény meredeksége: 0,28"
   ]
  },
  {
   "cell_type": "code",
   "execution_count": 22,
   "metadata": {
    "scrolled": false
   },
   "outputs": [
    {
     "name": "stdout",
     "output_type": "stream",
     "text": [
      "-0.5536000000000003\n",
      "-0.15360000000000085\n",
      "-0.35360000000000014\n",
      "0.4464000000000006\n",
      "0.2463999999999995\n",
      "0.6463999999999999\n",
      "SUM Derivált hiba:  0.27839999999999865\n",
      "Új B0:  1.8953599999999997\n"
     ]
    },
    {
     "data": {
      "text/plain": [
       "[<matplotlib.lines.Line2D at 0x18b43598748>]"
      ]
     },
     "execution_count": 22,
     "metadata": {},
     "output_type": "execute_result"
    },
    {
     "data": {
      "image/png": "[encoded data removed]",
      "text/plain": [
       "<Figure size 432x288 with 1 Axes>"
      ]
     },
     "metadata": {
      "needs_background": "light"
     },
     "output_type": "display_data"
    }
   ],
   "source": [
    "derivalt_hiba = 0\n",
    "\n",
    "for i in range(len(X)):\n",
    "    print(2*(B0 + B1*X[i] - y[i]))\n",
    "    derivalt_hiba += 2*(B0 + B1*X[i] - y[i])\n",
    "    \n",
    "print('SUM Derivált hiba: ', derivalt_hiba)\n",
    "\n",
    "B0 = B0 - derivalt_hiba * 0.1\n",
    "print('Új B0: ', B0)\n",
    "\n",
    "egyenes_tipp = egyenes(B0, B1, df.X)\n",
    "egyenes_tipp\n",
    "\n",
    "plt.scatter(df.X, df.y)\n",
    "plt.plot(df.X, egyenes_tipp)\n",
    "#B0 = 2,48, B1 = 1.1"
   ]
  },
  {
   "cell_type": "code",
   "execution_count": 28,
   "metadata": {},
   "outputs": [
    {
     "data": {
      "text/plain": [
       "0.280129177600001"
      ]
     },
     "execution_count": 28,
     "metadata": {},
     "output_type": "execute_result"
    }
   ],
   "source": [
    "hiba_B0 = 0\n",
    "\n",
    "for i in range(len(X)):\n",
    "    hiba_B0 += (B0 + B1*df.X[i] - y[i])**2\n",
    "    \n",
    "hiba_B0"
   ]
  }
 ],
 "metadata": {
  "kernelspec": {
   "display_name": "Python 3",
   "language": "python",
   "name": "python3"
  },
  "language_info": {
   "codemirror_mode": {
    "name": "ipython",
    "version": 3
   },
   "file_extension": ".py",
   "mimetype": "text/x-python",
   "name": "python",
   "nbconvert_exporter": "python",
   "pygments_lexer": "ipython3",
   "version": "3.7.4"
  }
 },
 "nbformat": 4,
 "nbformat_minor": 2
}
