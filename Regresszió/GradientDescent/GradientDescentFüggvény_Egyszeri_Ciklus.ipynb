{
 "cells": [
  {
   "cell_type": "markdown",
   "metadata": {},
   "source": [
    "### Könyvtárak importálása"
   ]
  },
  {
   "cell_type": "code",
   "execution_count": 85,
   "metadata": {},
   "outputs": [],
   "source": [
    "import pandas as pd\n",
    "import numpy as np\n",
    "import researchpy as rp\n",
    "from scipy import stats\n",
    "import matplotlib.pyplot as plt\n",
    "import seaborn as sns\n",
    "import plotly.express as px\n",
    "import plotly.graph_objects as go"
   ]
  },
  {
   "cell_type": "markdown",
   "metadata": {},
   "source": [
    "### X és y adatok generálása"
   ]
  },
  {
   "cell_type": "code",
   "execution_count": 86,
   "metadata": {},
   "outputs": [],
   "source": [
    "X = np.array([1, 2, 3, 4, 5, 6])\n",
    "y = np.array([3.3, 4.2, 5.4, 6.1, 7.3, 8.2])"
   ]
  },
  {
   "cell_type": "markdown",
   "metadata": {},
   "source": [
    "### Dataframe keszítés X-ből és y-ból"
   ]
  },
  {
   "cell_type": "code",
   "execution_count": 87,
   "metadata": {},
   "outputs": [
    {
     "data": {
      "text/html": [
       "<div>\n",
       "<style scoped>\n",
       "    .dataframe tbody tr th:only-of-type {\n",
       "        vertical-align: middle;\n",
       "    }\n",
       "\n",
       "    .dataframe tbody tr th {\n",
       "        vertical-align: top;\n",
       "    }\n",
       "\n",
       "    .dataframe thead th {\n",
       "        text-align: right;\n",
       "    }\n",
       "</style>\n",
       "<table border=\"1\" class=\"dataframe\">\n",
       "  <thead>\n",
       "    <tr style=\"text-align: right;\">\n",
       "      <th></th>\n",
       "      <th>X</th>\n",
       "      <th>y</th>\n",
       "    </tr>\n",
       "  </thead>\n",
       "  <tbody>\n",
       "    <tr>\n",
       "      <th>0</th>\n",
       "      <td>1</td>\n",
       "      <td>3.3</td>\n",
       "    </tr>\n",
       "    <tr>\n",
       "      <th>1</th>\n",
       "      <td>2</td>\n",
       "      <td>4.2</td>\n",
       "    </tr>\n",
       "    <tr>\n",
       "      <th>2</th>\n",
       "      <td>3</td>\n",
       "      <td>5.4</td>\n",
       "    </tr>\n",
       "    <tr>\n",
       "      <th>3</th>\n",
       "      <td>4</td>\n",
       "      <td>6.1</td>\n",
       "    </tr>\n",
       "    <tr>\n",
       "      <th>4</th>\n",
       "      <td>5</td>\n",
       "      <td>7.3</td>\n",
       "    </tr>\n",
       "    <tr>\n",
       "      <th>5</th>\n",
       "      <td>6</td>\n",
       "      <td>8.2</td>\n",
       "    </tr>\n",
       "  </tbody>\n",
       "</table>\n",
       "</div>"
      ],
      "text/plain": [
       "   X    y\n",
       "0  1  3.3\n",
       "1  2  4.2\n",
       "2  3  5.4\n",
       "3  4  6.1\n",
       "4  5  7.3\n",
       "5  6  8.2"
      ]
     },
     "execution_count": 87,
     "metadata": {},
     "output_type": "execute_result"
    }
   ],
   "source": [
    "X = pd.Series(X)\n",
    "y = pd.Series(y)\n",
    "\n",
    "Xy = {'X': X, 'y': y}\n",
    "\n",
    "df = pd.DataFrame(Xy)\n",
    "df"
   ]
  },
  {
   "cell_type": "markdown",
   "metadata": {},
   "source": [
    "### B0 és B1 kezdőértékének és regresszió függvény inicializálása"
   ]
  },
  {
   "cell_type": "code",
   "execution_count": 90,
   "metadata": {},
   "outputs": [],
   "source": [
    "B0 = 0                      #B0 együttható kezdőértéke\n",
    "B1 = 0                      #B1 együttható kezdőértéke\n",
    "\n",
    "y_ = np.array(B0 + B1*df.X) #y_ regresszió függvény megadása"
   ]
  },
  {
   "cell_type": "markdown",
   "metadata": {},
   "source": [
    "### X és y pontok valamint y_ regressziós egyenes ábrázolása"
   ]
  },
  {
   "cell_type": "code",
   "execution_count": 91,
   "metadata": {},
   "outputs": [
    {
     "data": {
      "text/plain": [
       "[<matplotlib.lines.Line2D at 0x1e755c2eb48>]"
      ]
     },
     "execution_count": 91,
     "metadata": {},
     "output_type": "execute_result"
    },
    {
     "data": {
      "image/png": "[encoded data removed]",
      "text/plain": [
       "<Figure size 864x504 with 1 Axes>"
      ]
     },
     "metadata": {
      "needs_background": "light"
     },
     "output_type": "display_data"
    }
   ],
   "source": [
    "plt.figure(figsize=(12, 7)) #Grafikon mérete\n",
    "plt.scatter(df.X, df.y)     #X és y pontok ábárzolása\n",
    "plt.plot(df.X, y_, color='orange')          #Regressziós egyenes ábrázolása"
   ]
  },
  {
   "cell_type": "markdown",
   "metadata": {},
   "source": [
    "### Gradient descent függvény írása lépsről lépésre követéshez"
   ]
  },
  {
   "cell_type": "code",
   "execution_count": 107,
   "metadata": {},
   "outputs": [],
   "source": [
    "def y_kalap(b0, b1, x):\n",
    "    return np.array(b0 + np.array(x)*b1)\n",
    "\n",
    "def gradient_descent(b0, b1, x, y, alpha):    \n",
    "    #B0 parciális deriváltja\n",
    "    db0 = np.sum(y_kalap(b0, b1, x) - np.array(y))\n",
    "\n",
    "    #B1 parciális deriváltja\n",
    "    db1 = np.sum((y_kalap(b0, b1, x) - np.array(y))*np.array(x))\n",
    "    \n",
    "    #B0 értékének frissítése\n",
    "    b0 = b0 - db0*alpha\n",
    "    print('B0: ', b0)\n",
    "\n",
    "    #B1 értékének frissítése\n",
    "    b1 = b1 - db1*alpha\n",
    "    print('B1: ', b1)\n",
    "    \n",
    "    #Regresszió függvény frissítése\n",
    "    y_ = y_kalap(b0, b1, x)\n",
    "    hiba = np.sum((np.array(y_) - np.array(y))**2)\n",
    "    print('\\nÖsszes hiba: ', hiba)\n",
    "    \n",
    "    plt.figure(figsize=(12, 7))\n",
    "    plt.scatter(x, y, label=None)\n",
    "    plt.plot(x, y_, color='orange', label=('y_ = {0:.2f}'.format(b0),' + ','{0:.2f}'.format(b1), 'X'))\n",
    "    plt.legend()\n",
    "    \n",
    "    return b0, b1"
   ]
  },
  {
   "cell_type": "markdown",
   "metadata": {},
   "source": [
    "### Gradient descent algoritmus egyszeri meghívása"
   ]
  },
  {
   "cell_type": "code",
   "execution_count": 179,
   "metadata": {},
   "outputs": [
    {
     "name": "stdout",
     "output_type": "stream",
     "text": [
      "B0:  1.906612517927198\n",
      "B1:  1.0776015182489358\n",
      "\n",
      "Összes hiba:  0.2301017607591908\n"
     ]
    },
    {
     "data": {
      "image/png": "[encoded data removed]",
      "text/plain": [
       "<Figure size 864x504 with 1 Axes>"
      ]
     },
     "metadata": {
      "needs_background": "light"
     },
     "output_type": "display_data"
    }
   ],
   "source": [
    "B0, B1 = gradient_descent(B0, B1, df.X, df.y, 0.01)"
   ]
  },
  {
   "cell_type": "markdown",
   "metadata": {},
   "source": [
    "### Gradient descent függvény írása ciklushoz"
   ]
  },
  {
   "cell_type": "code",
   "execution_count": 103,
   "metadata": {},
   "outputs": [],
   "source": [
    "def y_kalap(b0, b1, x, alpha):\n",
    "    return np.array(b0 + np.array(x)*b1)\n",
    "\n",
    "def gradient_descent_ciklus(b0, b1, x, y, ciklusok_száma, alpha):   \n",
    "    for i in range(ciklusok_száma):\n",
    "        #együtthatók parciális deriváltjainak kiszámítása\n",
    "        db0 = np.sum(y_kalap(b0, b1, x, alpha) - np.array(y))\n",
    "        db1 = np.sum((y_kalap(b0, b1, x, alpha) - np.array(y))*np.array(x))\n",
    "\n",
    "        #együtthatók értékeinek frissítése\n",
    "        b0 = b0 - db0*alpha\n",
    "        b1 = b1 - db1*alpha\n",
    "        \n",
    "        #y_ regresszió függvény frissítése és hiba újraszámolása\n",
    "        y_ = y_kalap(b0, b1, x, alpha)                  \n",
    "        hiba = np.sum((np.array(y_) - np.array(y))**2)\n",
    "      \n",
    "    #Regresszió függvény ábrázolása\n",
    "    plt.figure(figsize=(12, 7))\n",
    "    plt.scatter(x, y, label=None) \n",
    "    plt.plot(x, y_, color='orange', label=('y_ = {0:.2f}'.format(b0),' + ','{0:.2f}'.format(b1), 'X'))\n",
    "    plt.legend()\n",
    "    \n",
    "    print('B0:', b0)\n",
    "    print('B1:', b1)\n",
    "    print('\\nÖsszes hiba: ', hiba)\n",
    "    \n",
    "    return b0, b1"
   ]
  },
  {
   "cell_type": "markdown",
   "metadata": {},
   "source": [
    "### Gradient descent függvény hívása"
   ]
  },
  {
   "cell_type": "code",
   "execution_count": 104,
   "metadata": {},
   "outputs": [
    {
     "name": "stdout",
     "output_type": "stream",
     "text": [
      "B0: 2.2999675035768674\n",
      "B1: 0.9857218762109969\n",
      "\n",
      "Összes hiba:  0.051428572647812275\n"
     ]
    },
    {
     "data": {
      "text/plain": [
       "(2.2999675035768674, 0.9857218762109969)"
      ]
     },
     "execution_count": 104,
     "metadata": {},
     "output_type": "execute_result"
    },
    {
     "data": {
      "image/png": "[encoded data removed]",
      "text/plain": [
       "<Figure size 864x504 with 1 Axes>"
      ]
     },
     "metadata": {
      "needs_background": "light"
     },
     "output_type": "display_data"
    }
   ],
   "source": [
    "gradient_descent_ciklus(B0, B1, df.X, df.y, 1000, 0.01)"
   ]
  }
 ],
 "metadata": {
  "hide_input": false,
  "kernelspec": {
   "display_name": "Python 3",
   "language": "python",
   "name": "python3"
  },
  "language_info": {
   "codemirror_mode": {
    "name": "ipython",
    "version": 3
   },
   "file_extension": ".py",
   "mimetype": "text/x-python",
   "name": "python",
   "nbconvert_exporter": "python",
   "pygments_lexer": "ipython3",
   "version": "3.7.4"
  }
 },
 "nbformat": 4,
 "nbformat_minor": 2
}
