{
 "cells": [
  {
   "cell_type": "code",
   "execution_count": 32,
   "metadata": {},
   "outputs": [],
   "source": [
    "import pandas as pd\n",
    "import numpy as np\n",
    "import researchpy as rp\n",
    "from scipy import stats\n",
    "import matplotlib.pyplot as plt\n",
    "import seaborn as sns\n",
    "import plotly.express as px\n",
    "import plotly.graph_objects as go"
   ]
  },
  {
   "cell_type": "code",
   "execution_count": 229,
   "metadata": {
    "scrolled": false
   },
   "outputs": [
    {
     "data": {
      "text/plain": [
       "array([2.3127768 , 8.24054168, 2.73285822, 4.78514779, 0.98059512,\n",
       "       1.96072449, 8.04460195, 1.62471578, 3.33921112, 7.09748774,\n",
       "       0.91304622, 1.33979874, 7.22804555, 7.37276405, 3.81070503,\n",
       "       4.23781728, 4.18496104, 6.8091107 , 8.85377042, 5.11517855,\n",
       "       1.96762777, 2.50060926, 8.15161041, 8.45544876, 8.88886646,\n",
       "       2.22286769, 9.91589062, 9.52431611, 7.40877255, 1.47195512,\n",
       "       6.84692875, 0.83057539, 2.54332768, 9.88404883, 4.10846706,\n",
       "       3.09931398, 8.9110414 , 9.09696657, 7.44683508, 0.18967642,\n",
       "       5.70645109, 4.63685161, 3.4492753 , 5.43384587, 4.61677914,\n",
       "       3.32253691, 3.25350282, 3.60386753, 8.03893745, 1.13012596,\n",
       "       0.5616672 , 3.40388828, 3.91480174, 2.61213929, 6.77228172,\n",
       "       9.78822148, 3.76593043, 8.47487601, 7.59788119, 2.23154101,\n",
       "       6.76266576, 8.52713406, 8.68720097, 4.17327851, 0.3020689 ,\n",
       "       2.53354722, 2.15153452, 0.71872089, 4.58945812, 7.52967129,\n",
       "       2.8038913 , 1.92163053, 3.65857515, 5.97646302, 7.37228368,\n",
       "       2.72002388, 2.16536548, 5.76514372, 4.36638946, 5.79911995,\n",
       "       9.02449296, 5.02108443, 2.33725425, 1.02525023, 8.52135081,\n",
       "       8.82916617, 3.20599143, 4.11061808, 2.12336566, 6.75024664,\n",
       "       6.80027718, 5.1715874 , 0.39393492, 0.87516425, 4.85457388,\n",
       "       6.57305539, 6.44301566, 5.32676808, 6.90133765, 5.36948874])"
      ]
     },
     "execution_count": 229,
     "metadata": {},
     "output_type": "execute_result"
    }
   ],
   "source": [
    "X = []\n",
    "\n",
    "for i in range(100):\n",
    "    véletlen = np.random.random()*10\n",
    "    X.append(véletlen)\n",
    "    \n",
    "X = np.array(X)\n",
    "X"
   ]
  },
  {
   "cell_type": "code",
   "execution_count": 230,
   "metadata": {},
   "outputs": [],
   "source": [
    "y = []\n",
    "\n",
    "for i in range(len(X)):\n",
    "    if ((X[i]) > 5):\n",
    "        y.append(1)\n",
    "    else:\n",
    "        y.append(0)"
   ]
  },
  {
   "cell_type": "code",
   "execution_count": 231,
   "metadata": {},
   "outputs": [
    {
     "data": {
      "text/plain": [
       "<matplotlib.collections.PathCollection at 0x1bd10410f88>"
      ]
     },
     "execution_count": 231,
     "metadata": {},
     "output_type": "execute_result"
    },
    {
     "data": {
      "image/png": "[encoded data removed]",
      "text/plain": [
       "<Figure size 576x360 with 1 Axes>"
      ]
     },
     "metadata": {
      "needs_background": "light"
     },
     "output_type": "display_data"
    }
   ],
   "source": [
    "plt.figure(figsize=(8, 5))\n",
    "plt.scatter(X, y)"
   ]
  }
 ],
 "metadata": {
  "kernelspec": {
   "display_name": "Python 3",
   "language": "python",
   "name": "python3"
  },
  "language_info": {
   "codemirror_mode": {
    "name": "ipython",
    "version": 3
   },
   "file_extension": ".py",
   "mimetype": "text/x-python",
   "name": "python",
   "nbconvert_exporter": "python",
   "pygments_lexer": "ipython3",
   "version": "3.7.4"
  }
 },
 "nbformat": 4,
 "nbformat_minor": 2
}
