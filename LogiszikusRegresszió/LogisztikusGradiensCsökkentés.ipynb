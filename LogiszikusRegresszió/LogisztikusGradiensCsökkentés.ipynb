{
 "cells": [
  {
   "cell_type": "markdown",
   "metadata": {},
   "source": [
    "### Könyvtárak importálása"
   ]
  },
  {
   "cell_type": "code",
   "execution_count": 42,
   "metadata": {},
   "outputs": [],
   "source": [
    "import numpy as np\n",
    "import matplotlib.pyplot as plt\n",
    "%matplotlib inline"
   ]
  },
  {
   "cell_type": "markdown",
   "metadata": {},
   "source": [
    "### Adatok létrehozása"
   ]
  },
  {
   "cell_type": "code",
   "execution_count": 43,
   "metadata": {},
   "outputs": [],
   "source": [
    "X = np.array(np.linspace(0, 10, 100))\n",
    "\n",
    "y = []\n",
    "for i in range(len(X)):\n",
    "    if (X[i] < 5):\n",
    "        y.append(0)\n",
    "    else:\n",
    "        y.append(1)\n",
    "        \n",
    "y = np.array(y)"
   ]
  },
  {
   "cell_type": "markdown",
   "metadata": {},
   "source": [
    "### Adatok ábrázolása"
   ]
  },
  {
   "cell_type": "markdown",
   "metadata": {},
   "source": [
    "###  \n",
    "###  \n",
    "###  \n",
    "### b0 és b1 együtthatók kezdeti értékeinek felvétele"
   ]
  },
  {
   "cell_type": "code",
   "execution_count": 44,
   "metadata": {},
   "outputs": [
    {
     "data": {
      "text/plain": [
       "<matplotlib.collections.PathCollection at 0x1e050268688>"
      ]
     },
     "execution_count": 44,
     "metadata": {},
     "output_type": "execute_result"
    },
    {
     "data": {
      "image/png": "[encoded data removed]",
      "text/plain": [
       "<Figure size 864x504 with 1 Axes>"
      ]
     },
     "metadata": {
      "needs_background": "light"
     },
     "output_type": "display_data"
    }
   ],
   "source": [
    "plt.figure(figsize=(12, 7))\n",
    "plt.scatter(X, y)"
   ]
  },
  {
   "cell_type": "code",
   "execution_count": 96,
   "metadata": {},
   "outputs": [],
   "source": [
    "b0 = 0\n",
    "b1 = 0"
   ]
  },
  {
   "cell_type": "markdown",
   "metadata": {},
   "source": [
    "### Logisztikus regresszió függvénye (Y_)"
   ]
  },
  {
   "cell_type": "code",
   "execution_count": 98,
   "metadata": {},
   "outputs": [],
   "source": [
    "def sigmoid(b0, b1, x):\n",
    "    return 1/(1 + np.exp((-1)*(b0 + b1*x)))\n",
    "\n",
    "P = sigmoid(b0, b1, X)"
   ]
  },
  {
   "cell_type": "markdown",
   "metadata": {},
   "source": [
    "### Regressziós függvény ábrázolása"
   ]
  },
  {
   "cell_type": "code",
   "execution_count": 99,
   "metadata": {},
   "outputs": [
    {
     "data": {
      "text/plain": [
       "[<matplotlib.lines.Line2D at 0x1e051083c48>]"
      ]
     },
     "execution_count": 99,
     "metadata": {},
     "output_type": "execute_result"
    },
    {
     "data": {
      "image/png": "[encoded data removed]",
      "text/plain": [
       "<Figure size 864x504 with 1 Axes>"
      ]
     },
     "metadata": {
      "needs_background": "light"
     },
     "output_type": "display_data"
    }
   ],
   "source": [
    "plt.figure(figsize=(12, 7))\n",
    "plt.scatter(X, Y)\n",
    "plt.plot(X, P, color='red')"
   ]
  },
  {
   "cell_type": "markdown",
   "metadata": {},
   "source": [
    "### Összes hiba nagysága"
   ]
  },
  {
   "cell_type": "code",
   "execution_count": 100,
   "metadata": {},
   "outputs": [
    {
     "data": {
      "text/plain": [
       "69.31471805599453"
      ]
     },
     "execution_count": 100,
     "metadata": {},
     "output_type": "execute_result"
    }
   ],
   "source": [
    "np.sum(-Y*np.log(P) - (1-Y)*np.log(1-P))"
   ]
  },
  {
   "cell_type": "markdown",
   "metadata": {},
   "source": [
    "### b0 és b1 együtthatók értékeinek közelítése az optimálishoz"
   ]
  },
  {
   "cell_type": "code",
   "execution_count": 174,
   "metadata": {},
   "outputs": [
    {
     "data": {
      "text/plain": [
       "[<matplotlib.lines.Line2D at 0x1e051b9f408>]"
      ]
     },
     "execution_count": 174,
     "metadata": {},
     "output_type": "execute_result"
    },
    {
     "data": {
      "image/png": "[encoded data removed]",
      "text/plain": [
       "<Figure size 864x504 with 1 Axes>"
      ]
     },
     "metadata": {
      "needs_background": "light"
     },
     "output_type": "display_data"
    }
   ],
   "source": [
    "#együtthatók újraszámolása\n",
    "b0 = b0 - np.sum(P - y)*alpha\n",
    "b1 = b1 - np.sum((P - y)*X)*alpha\n",
    "\n",
    "#sigmoid függvény újraszámolása\n",
    "P = sigmoid(b0, b1, X)\n",
    "\n",
    "plt.figure(figsize=(12, 7))                         #méret\n",
    "plt.scatter(X, y)                                   #adat pontok\n",
    "plt.plot(X, P, color='red')                         #sigmoid függvény\n",
    "plt.plot(X, X*0+0.5, color='grey', linestyle='--')  #szürke szaggatott vonal p=0,5-höz"
   ]
  },
  {
   "cell_type": "markdown",
   "metadata": {},
   "source": [
    "### b0 és b1 együtthatók értékeinek ciklikus újraszámolása"
   ]
  },
  {
   "cell_type": "code",
   "execution_count": 173,
   "metadata": {},
   "outputs": [
    {
     "name": "stdout",
     "output_type": "stream",
     "text": [
      "összes hiba nagysága:  2.8096006237062396\n"
     ]
    }
   ],
   "source": [
    "for i in range(10000):\n",
    "    b0 = b0 - np.sum(P - Y)*alpha\n",
    "    b1 = b1 - np.sum((P - Y)*X)*alpha\n",
    "    P = 1/(1 + np.exp((-1)*(b0 + b1*X)))\n",
    "    \n",
    "print('összes hiba nagysága: ', np.sum(-Y*np.log(P) - (1-Y)*np.log(1-P)))"
   ]
  }
 ],
 "metadata": {
  "hide_input": false,
  "kernelspec": {
   "display_name": "Python 3",
   "language": "python",
   "name": "python3"
  },
  "language_info": {
   "codemirror_mode": {
    "name": "ipython",
    "version": 3
   },
   "file_extension": ".py",
   "mimetype": "text/x-python",
   "name": "python",
   "nbconvert_exporter": "python",
   "pygments_lexer": "ipython3",
   "version": "3.7.4"
  }
 },
 "nbformat": 4,
 "nbformat_minor": 2
}
