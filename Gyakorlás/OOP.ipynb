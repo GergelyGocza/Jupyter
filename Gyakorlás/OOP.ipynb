{
 "cells": [
  {
   "cell_type": "markdown",
   "metadata": {},
   "source": [
    "### Ősosztály"
   ]
  },
  {
   "cell_type": "code",
   "execution_count": 135,
   "metadata": {},
   "outputs": [],
   "source": [
    "class Kutya:\n",
    "    #Konstruktor\n",
    "    def __init__(self, name, age):\n",
    "        self.name = name\n",
    "        self.age = age\n",
    "        \n",
    "    def saját_azon(self):\n",
    "        return self.azon\n",
    "        \n",
    "    def adatok(self):\n",
    "        return print(self.name, self.age, 'éves')\n",
    "    \n",
    "    def beszél(self, hang):\n",
    "        return print(self.name, 'mondja:', hang)\n",
    "    \n",
    "    def fut(self, sebesség):\n",
    "        return print(self.name, sebesség, 'gyorsan fut')"
   ]
  },
  {
   "cell_type": "markdown",
   "metadata": {},
   "source": [
    "### Utódosztály"
   ]
  },
  {
   "cell_type": "code",
   "execution_count": 136,
   "metadata": {},
   "outputs": [],
   "source": [
    "class Németjuhász(Kutya):\n",
    "    #Konstruktor\n",
    "    def __init__(self, name, age, szín):\n",
    "        self.szín = szín\n",
    "        super(Németjuhász, self).__init__(name, age)\n",
    "        \n",
    "    def németül_beszél(self):\n",
    "        return print(self.name, 'mondja: Was kann ich für sie tun?')    \n",
    "        \n",
    "    def fut(self, sebesség):\n",
    "        return print(self.szín, self.name, sebesség, 'gyorsan fut')"
   ]
  },
  {
   "cell_type": "code",
   "execution_count": 137,
   "metadata": {},
   "outputs": [],
   "source": [
    "Bodri = Kutya('Bodri', 3)\n",
    "Blöki = Kutya('Blöki', 2)\n",
    "\n",
    "Német = Németjuhász('Német', 3, 'fekete')"
   ]
  }
 ],
 "metadata": {
  "hide_input": false,
  "kernelspec": {
   "display_name": "Python 3",
   "language": "python",
   "name": "python3"
  },
  "language_info": {
   "codemirror_mode": {
    "name": "ipython",
    "version": 3
   },
   "file_extension": ".py",
   "mimetype": "text/x-python",
   "name": "python",
   "nbconvert_exporter": "python",
   "pygments_lexer": "ipython3",
   "version": "3.7.4"
  }
 },
 "nbformat": 4,
 "nbformat_minor": 2
}
