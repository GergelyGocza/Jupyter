{
 "cells": [
  {
   "cell_type": "markdown",
   "metadata": {},
   "source": [
    "### Könyvtárak importálása"
   ]
  },
  {
   "cell_type": "code",
   "execution_count": 1,
   "metadata": {},
   "outputs": [],
   "source": [
    "#----------Fájkezelés----------\n",
    "import numpy as np\n",
    "import pandas as pd\n",
    "import pandas_profiling\n",
    "import os\n",
    "ldir = os.chdir(r'C:\\Users\\Gergely\\Documents\\Datasets')\n",
    "#from vega_datasets import data\n",
    "from gapminder import gapminder\n",
    "\n",
    "#import aethos as at\n",
    "\n",
    "#----------Statisztika----------\n",
    "from pandas_summary import DataFrameSummary\n",
    "import researchpy as rp\n",
    "#from scipy import stats\n",
    "import scipy.stats\n",
    "\n",
    "#----------Vizualizáció----------\n",
    "import matplotlib.pyplot as plt\n",
    "%matplotlib inline\n",
    "import seaborn as sns\n",
    "import plotly.express as px\n",
    "import plotly.graph_objects as go\n",
    "import ipywidgets\n",
    "#import qgrid\n",
    "\n",
    "#----------Sklearn----------\n",
    "#from sklearn import linear_model\n",
    "#from sklearn.linear_model import LinearRegression\n",
    "#from sklearn.linear_model import SGDRegressor\n",
    "#from sklearn.metrics import r2_score\n",
    "#from sklearn.neighbors import KNeighborsClassifier\n",
    "#from sklearn.datasets.samples_generator import make_regression\n",
    "#from sklearn.preprocessing import StandardScaler\n",
    "\n",
    "#from scipy.optimize import curve_fit "
   ]
  },
  {
   "cell_type": "markdown",
   "metadata": {},
   "source": [
    "### Dataframe beolvasása"
   ]
  },
  {
   "cell_type": "code",
   "execution_count": 2,
   "metadata": {},
   "outputs": [
    {
     "data": {
      "text/plain": [
       "\"df = pd.read_csv('Gapminder.csv'\\n                 #,nrows=5, usecols=['country', 'year', 'pop']\\n                 #,dtype={'country':'category', 'year':'int16'}\\n                 #,encoding='ISO-8859-2'\\n                 #,delimiter=','\\n                )\""
      ]
     },
     "execution_count": 2,
     "metadata": {},
     "output_type": "execute_result"
    }
   ],
   "source": [
    "'''df = pd.read_csv('Gapminder.csv'\n",
    "                 #,nrows=5, usecols=['country', 'year', 'pop']\n",
    "                 #,dtype={'country':'category', 'year':'int16'}\n",
    "                 #,encoding='ISO-8859-2'\n",
    "                 #,delimiter=','\n",
    "                )'''"
   ]
  },
  {
   "cell_type": "code",
   "execution_count": 3,
   "metadata": {},
   "outputs": [
    {
     "data": {
      "text/html": [
       "<div>\n",
       "<style scoped>\n",
       "    .dataframe tbody tr th:only-of-type {\n",
       "        vertical-align: middle;\n",
       "    }\n",
       "\n",
       "    .dataframe tbody tr th {\n",
       "        vertical-align: top;\n",
       "    }\n",
       "\n",
       "    .dataframe thead th {\n",
       "        text-align: right;\n",
       "    }\n",
       "</style>\n",
       "<table border=\"1\" class=\"dataframe\">\n",
       "  <thead>\n",
       "    <tr style=\"text-align: right;\">\n",
       "      <th></th>\n",
       "      <th>country</th>\n",
       "      <th>continent</th>\n",
       "      <th>year</th>\n",
       "      <th>lifeExp</th>\n",
       "      <th>pop</th>\n",
       "      <th>gdpPercap</th>\n",
       "    </tr>\n",
       "  </thead>\n",
       "  <tbody>\n",
       "    <tr>\n",
       "      <th>0</th>\n",
       "      <td>Afghanistan</td>\n",
       "      <td>Asia</td>\n",
       "      <td>1952</td>\n",
       "      <td>28.801</td>\n",
       "      <td>8425333</td>\n",
       "      <td>779.445314</td>\n",
       "    </tr>\n",
       "    <tr>\n",
       "      <th>1</th>\n",
       "      <td>Afghanistan</td>\n",
       "      <td>Asia</td>\n",
       "      <td>1957</td>\n",
       "      <td>30.332</td>\n",
       "      <td>9240934</td>\n",
       "      <td>820.853030</td>\n",
       "    </tr>\n",
       "    <tr>\n",
       "      <th>2</th>\n",
       "      <td>Afghanistan</td>\n",
       "      <td>Asia</td>\n",
       "      <td>1962</td>\n",
       "      <td>31.997</td>\n",
       "      <td>10267083</td>\n",
       "      <td>853.100710</td>\n",
       "    </tr>\n",
       "    <tr>\n",
       "      <th>3</th>\n",
       "      <td>Afghanistan</td>\n",
       "      <td>Asia</td>\n",
       "      <td>1967</td>\n",
       "      <td>34.020</td>\n",
       "      <td>11537966</td>\n",
       "      <td>836.197138</td>\n",
       "    </tr>\n",
       "    <tr>\n",
       "      <th>4</th>\n",
       "      <td>Afghanistan</td>\n",
       "      <td>Asia</td>\n",
       "      <td>1972</td>\n",
       "      <td>36.088</td>\n",
       "      <td>13079460</td>\n",
       "      <td>739.981106</td>\n",
       "    </tr>\n",
       "  </tbody>\n",
       "</table>\n",
       "</div>"
      ],
      "text/plain": [
       "       country continent  year  lifeExp       pop   gdpPercap\n",
       "0  Afghanistan      Asia  1952   28.801   8425333  779.445314\n",
       "1  Afghanistan      Asia  1957   30.332   9240934  820.853030\n",
       "2  Afghanistan      Asia  1962   31.997  10267083  853.100710\n",
       "3  Afghanistan      Asia  1967   34.020  11537966  836.197138\n",
       "4  Afghanistan      Asia  1972   36.088  13079460  739.981106"
      ]
     },
     "execution_count": 3,
     "metadata": {},
     "output_type": "execute_result"
    }
   ],
   "source": [
    "df = gapminder\n",
    "df.head()"
   ]
  },
  {
   "cell_type": "markdown",
   "metadata": {},
   "source": [
    "#### Oszlopok nevei"
   ]
  },
  {
   "cell_type": "code",
   "execution_count": 4,
   "metadata": {},
   "outputs": [],
   "source": [
    "#df.columns"
   ]
  },
  {
   "cell_type": "markdown",
   "metadata": {},
   "source": [
    "#### Oszlopok törlése"
   ]
  },
  {
   "cell_type": "code",
   "execution_count": 5,
   "metadata": {},
   "outputs": [],
   "source": [
    "#df.drop(columns=['country', 'gdpPercap'], inplace=True)"
   ]
  },
  {
   "cell_type": "markdown",
   "metadata": {},
   "source": [
    "#### Összes oszlop átnevezése"
   ]
  },
  {
   "cell_type": "code",
   "execution_count": 6,
   "metadata": {},
   "outputs": [],
   "source": [
    "#df.columns = ['Első_oszlop', 'Második_oszlop', 'Harmadik_oszlop', 'Utolsó_oszlop']"
   ]
  },
  {
   "cell_type": "markdown",
   "metadata": {},
   "source": [
    "###   \n",
    "###   \n",
    "### EDA"
   ]
  },
  {
   "cell_type": "markdown",
   "metadata": {},
   "source": [
    "#### Shape"
   ]
  },
  {
   "cell_type": "code",
   "execution_count": 7,
   "metadata": {},
   "outputs": [
    {
     "data": {
      "text/plain": [
       "(1704, 6)"
      ]
     },
     "execution_count": 7,
     "metadata": {},
     "output_type": "execute_result"
    }
   ],
   "source": [
    "df.shape"
   ]
  },
  {
   "cell_type": "markdown",
   "metadata": {},
   "source": [
    "#### Uniques & Missing values"
   ]
  },
  {
   "cell_type": "code",
   "execution_count": 8,
   "metadata": {},
   "outputs": [
    {
     "data": {
      "text/html": [
       "<div>\n",
       "<style scoped>\n",
       "    .dataframe tbody tr th:only-of-type {\n",
       "        vertical-align: middle;\n",
       "    }\n",
       "\n",
       "    .dataframe tbody tr th {\n",
       "        vertical-align: top;\n",
       "    }\n",
       "\n",
       "    .dataframe thead th {\n",
       "        text-align: right;\n",
       "    }\n",
       "</style>\n",
       "<table border=\"1\" class=\"dataframe\">\n",
       "  <thead>\n",
       "    <tr style=\"text-align: right;\">\n",
       "      <th></th>\n",
       "      <th>country</th>\n",
       "      <th>continent</th>\n",
       "      <th>year</th>\n",
       "      <th>lifeExp</th>\n",
       "      <th>pop</th>\n",
       "      <th>gdpPercap</th>\n",
       "    </tr>\n",
       "  </thead>\n",
       "  <tbody>\n",
       "    <tr>\n",
       "      <th>counts</th>\n",
       "      <td>1704</td>\n",
       "      <td>1704</td>\n",
       "      <td>1704</td>\n",
       "      <td>1704</td>\n",
       "      <td>1704</td>\n",
       "      <td>1704</td>\n",
       "    </tr>\n",
       "    <tr>\n",
       "      <th>uniques</th>\n",
       "      <td>142</td>\n",
       "      <td>5</td>\n",
       "      <td>12</td>\n",
       "      <td>1626</td>\n",
       "      <td>1704</td>\n",
       "      <td>1704</td>\n",
       "    </tr>\n",
       "    <tr>\n",
       "      <th>missing</th>\n",
       "      <td>0</td>\n",
       "      <td>0</td>\n",
       "      <td>0</td>\n",
       "      <td>0</td>\n",
       "      <td>0</td>\n",
       "      <td>0</td>\n",
       "    </tr>\n",
       "    <tr>\n",
       "      <th>missing_perc</th>\n",
       "      <td>0%</td>\n",
       "      <td>0%</td>\n",
       "      <td>0%</td>\n",
       "      <td>0%</td>\n",
       "      <td>0%</td>\n",
       "      <td>0%</td>\n",
       "    </tr>\n",
       "    <tr>\n",
       "      <th>types</th>\n",
       "      <td>categorical</td>\n",
       "      <td>categorical</td>\n",
       "      <td>numeric</td>\n",
       "      <td>numeric</td>\n",
       "      <td>numeric</td>\n",
       "      <td>numeric</td>\n",
       "    </tr>\n",
       "  </tbody>\n",
       "</table>\n",
       "</div>"
      ],
      "text/plain": [
       "                  country    continent     year  lifeExp      pop gdpPercap\n",
       "counts               1704         1704     1704     1704     1704      1704\n",
       "uniques               142            5       12     1626     1704      1704\n",
       "missing                 0            0        0        0        0         0\n",
       "missing_perc           0%           0%       0%       0%       0%        0%\n",
       "types         categorical  categorical  numeric  numeric  numeric   numeric"
      ]
     },
     "execution_count": 8,
     "metadata": {},
     "output_type": "execute_result"
    }
   ],
   "source": [
    "dfs = DataFrameSummary(df)\n",
    "\n",
    "dfs.columns_stats"
   ]
  },
  {
   "cell_type": "code",
   "execution_count": 9,
   "metadata": {},
   "outputs": [
    {
     "data": {
      "text/plain": [
       "country      0\n",
       "continent    0\n",
       "year         0\n",
       "lifeExp      0\n",
       "pop          0\n",
       "gdpPercap    0\n",
       "dtype: int64"
      ]
     },
     "execution_count": 9,
     "metadata": {},
     "output_type": "execute_result"
    }
   ],
   "source": [
    "df.isnull().sum()"
   ]
  },
  {
   "cell_type": "markdown",
   "metadata": {},
   "source": [
    "#### Adattípusok és méretük"
   ]
  },
  {
   "cell_type": "code",
   "execution_count": 10,
   "metadata": {},
   "outputs": [
    {
     "name": "stdout",
     "output_type": "stream",
     "text": [
      "<class 'pandas.core.frame.DataFrame'>\n",
      "RangeIndex: 1704 entries, 0 to 1703\n",
      "Data columns (total 6 columns):\n",
      "country      object\n",
      "continent    object\n",
      "year         int64\n",
      "lifeExp      float64\n",
      "pop          int64\n",
      "gdpPercap    float64\n",
      "dtypes: float64(2), int64(2), object(2)\n",
      "memory usage: 266.8 KB\n"
     ]
    }
   ],
   "source": [
    "df.info(memory_usage='deep', null_counts=False)"
   ]
  },
  {
   "cell_type": "code",
   "execution_count": 11,
   "metadata": {},
   "outputs": [
    {
     "data": {
      "text/plain": [
       "object     2\n",
       "float64    2\n",
       "int64      2\n",
       "dtype: int64"
      ]
     },
     "execution_count": 11,
     "metadata": {},
     "output_type": "execute_result"
    }
   ],
   "source": [
    "df.dtypes.value_counts()"
   ]
  },
  {
   "cell_type": "code",
   "execution_count": 12,
   "metadata": {},
   "outputs": [
    {
     "data": {
      "text/plain": [
       "numeric        4\n",
       "categorical    2\n",
       "Name: types, dtype: int64"
      ]
     },
     "execution_count": 12,
     "metadata": {},
     "output_type": "execute_result"
    }
   ],
   "source": [
    "dfs.columns_types"
   ]
  },
  {
   "cell_type": "markdown",
   "metadata": {},
   "source": [
    "#### Csak bizonyos típusú oszlopok kiválasztása"
   ]
  },
  {
   "cell_type": "code",
   "execution_count": 13,
   "metadata": {},
   "outputs": [
    {
     "data": {
      "text/html": [
       "<div>\n",
       "<style scoped>\n",
       "    .dataframe tbody tr th:only-of-type {\n",
       "        vertical-align: middle;\n",
       "    }\n",
       "\n",
       "    .dataframe tbody tr th {\n",
       "        vertical-align: top;\n",
       "    }\n",
       "\n",
       "    .dataframe thead th {\n",
       "        text-align: right;\n",
       "    }\n",
       "</style>\n",
       "<table border=\"1\" class=\"dataframe\">\n",
       "  <thead>\n",
       "    <tr style=\"text-align: right;\">\n",
       "      <th></th>\n",
       "      <th>year</th>\n",
       "      <th>lifeExp</th>\n",
       "      <th>pop</th>\n",
       "      <th>gdpPercap</th>\n",
       "    </tr>\n",
       "  </thead>\n",
       "  <tbody>\n",
       "    <tr>\n",
       "      <th>0</th>\n",
       "      <td>1952</td>\n",
       "      <td>28.801</td>\n",
       "      <td>8425333</td>\n",
       "      <td>779.445314</td>\n",
       "    </tr>\n",
       "    <tr>\n",
       "      <th>1</th>\n",
       "      <td>1957</td>\n",
       "      <td>30.332</td>\n",
       "      <td>9240934</td>\n",
       "      <td>820.853030</td>\n",
       "    </tr>\n",
       "    <tr>\n",
       "      <th>2</th>\n",
       "      <td>1962</td>\n",
       "      <td>31.997</td>\n",
       "      <td>10267083</td>\n",
       "      <td>853.100710</td>\n",
       "    </tr>\n",
       "    <tr>\n",
       "      <th>3</th>\n",
       "      <td>1967</td>\n",
       "      <td>34.020</td>\n",
       "      <td>11537966</td>\n",
       "      <td>836.197138</td>\n",
       "    </tr>\n",
       "    <tr>\n",
       "      <th>4</th>\n",
       "      <td>1972</td>\n",
       "      <td>36.088</td>\n",
       "      <td>13079460</td>\n",
       "      <td>739.981106</td>\n",
       "    </tr>\n",
       "  </tbody>\n",
       "</table>\n",
       "</div>"
      ],
      "text/plain": [
       "   year  lifeExp       pop   gdpPercap\n",
       "0  1952   28.801   8425333  779.445314\n",
       "1  1957   30.332   9240934  820.853030\n",
       "2  1962   31.997  10267083  853.100710\n",
       "3  1967   34.020  11537966  836.197138\n",
       "4  1972   36.088  13079460  739.981106"
      ]
     },
     "execution_count": 13,
     "metadata": {},
     "output_type": "execute_result"
    }
   ],
   "source": [
    "df.select_dtypes(include=['float64', 'int64']).head()"
   ]
  },
  {
   "cell_type": "markdown",
   "metadata": {},
   "source": [
    "#### Descriptives"
   ]
  },
  {
   "cell_type": "code",
   "execution_count": 14,
   "metadata": {},
   "outputs": [
    {
     "data": {
      "text/html": [
       "<div>\n",
       "<style scoped>\n",
       "    .dataframe tbody tr th:only-of-type {\n",
       "        vertical-align: middle;\n",
       "    }\n",
       "\n",
       "    .dataframe tbody tr th {\n",
       "        vertical-align: top;\n",
       "    }\n",
       "\n",
       "    .dataframe thead th {\n",
       "        text-align: right;\n",
       "    }\n",
       "</style>\n",
       "<table border=\"1\" class=\"dataframe\">\n",
       "  <thead>\n",
       "    <tr style=\"text-align: right;\">\n",
       "      <th></th>\n",
       "      <th>year</th>\n",
       "      <th>lifeExp</th>\n",
       "      <th>pop</th>\n",
       "      <th>gdpPercap</th>\n",
       "    </tr>\n",
       "  </thead>\n",
       "  <tbody>\n",
       "    <tr>\n",
       "      <th>count</th>\n",
       "      <td>1704.00</td>\n",
       "      <td>1704.00</td>\n",
       "      <td>1704.00</td>\n",
       "      <td>1704.00</td>\n",
       "    </tr>\n",
       "    <tr>\n",
       "      <th>mean</th>\n",
       "      <td>1979.50</td>\n",
       "      <td>59.47</td>\n",
       "      <td>29601212.32</td>\n",
       "      <td>7215.33</td>\n",
       "    </tr>\n",
       "    <tr>\n",
       "      <th>std</th>\n",
       "      <td>17.27</td>\n",
       "      <td>12.92</td>\n",
       "      <td>106157896.74</td>\n",
       "      <td>9857.45</td>\n",
       "    </tr>\n",
       "    <tr>\n",
       "      <th>min</th>\n",
       "      <td>1952.00</td>\n",
       "      <td>23.60</td>\n",
       "      <td>60011.00</td>\n",
       "      <td>241.17</td>\n",
       "    </tr>\n",
       "    <tr>\n",
       "      <th>25%</th>\n",
       "      <td>1965.75</td>\n",
       "      <td>48.20</td>\n",
       "      <td>2793664.00</td>\n",
       "      <td>1202.06</td>\n",
       "    </tr>\n",
       "    <tr>\n",
       "      <th>50%</th>\n",
       "      <td>1979.50</td>\n",
       "      <td>60.71</td>\n",
       "      <td>7023595.50</td>\n",
       "      <td>3531.85</td>\n",
       "    </tr>\n",
       "    <tr>\n",
       "      <th>75%</th>\n",
       "      <td>1993.25</td>\n",
       "      <td>70.85</td>\n",
       "      <td>19585221.75</td>\n",
       "      <td>9325.46</td>\n",
       "    </tr>\n",
       "    <tr>\n",
       "      <th>max</th>\n",
       "      <td>2007.00</td>\n",
       "      <td>82.60</td>\n",
       "      <td>1318683096.00</td>\n",
       "      <td>113523.13</td>\n",
       "    </tr>\n",
       "  </tbody>\n",
       "</table>\n",
       "</div>"
      ],
      "text/plain": [
       "         year  lifeExp           pop  gdpPercap\n",
       "count 1704.00  1704.00       1704.00    1704.00\n",
       "mean  1979.50    59.47   29601212.32    7215.33\n",
       "std     17.27    12.92  106157896.74    9857.45\n",
       "min   1952.00    23.60      60011.00     241.17\n",
       "25%   1965.75    48.20    2793664.00    1202.06\n",
       "50%   1979.50    60.71    7023595.50    3531.85\n",
       "75%   1993.25    70.85   19585221.75    9325.46\n",
       "max   2007.00    82.60 1318683096.00  113523.13"
      ]
     },
     "execution_count": 14,
     "metadata": {},
     "output_type": "execute_result"
    }
   ],
   "source": [
    "pd.set_option('display.float_format', lambda x: '%.2f' % x)\n",
    "df.describe()"
   ]
  },
  {
   "cell_type": "markdown",
   "metadata": {},
   "source": [
    "#### Egy változó részletes adatai"
   ]
  },
  {
   "cell_type": "code",
   "execution_count": 15,
   "metadata": {},
   "outputs": [
    {
     "data": {
      "text/plain": [
       "mean                        1979.50\n",
       "std                           17.27\n",
       "variance                     298.09\n",
       "min                            1952\n",
       "max                            2007\n",
       "mode                           1952\n",
       "5%                          1952.00\n",
       "25%                         1965.75\n",
       "50%                         1979.50\n",
       "75%                         1993.25\n",
       "95%                         2007.00\n",
       "iqr                           27.50\n",
       "kurtosis                      -1.22\n",
       "skewness                       0.00\n",
       "sum                         3373068\n",
       "mad                           15.00\n",
       "cv                             0.01\n",
       "zeros_num                         0\n",
       "zeros_perc                       0%\n",
       "deviating_of_mean                 0\n",
       "deviating_of_mean_perc           0%\n",
       "deviating_of_median               0\n",
       "deviating_of_median_perc         0%\n",
       "top_correlations                   \n",
       "counts                         1704\n",
       "uniques                          12\n",
       "missing                           0\n",
       "missing_perc                     0%\n",
       "types                       numeric\n",
       "Name: year, dtype: object"
      ]
     },
     "execution_count": 15,
     "metadata": {},
     "output_type": "execute_result"
    },
    {
     "data": {
      "image/png": "[encoded data removed]",
      "text/plain": [
       "<Figure size 432x288 with 1 Axes>"
      ]
     },
     "metadata": {
      "needs_background": "light"
     },
     "output_type": "display_data"
    }
   ],
   "source": [
    "dfs['year']"
   ]
  },
  {
   "cell_type": "code",
   "execution_count": 16,
   "metadata": {},
   "outputs": [
    {
     "name": "stdout",
     "output_type": "stream",
     "text": [
      "\n",
      "\n"
     ]
    },
    {
     "data": {
      "text/html": [
       "<div>\n",
       "<style scoped>\n",
       "    .dataframe tbody tr th:only-of-type {\n",
       "        vertical-align: middle;\n",
       "    }\n",
       "\n",
       "    .dataframe tbody tr th {\n",
       "        vertical-align: top;\n",
       "    }\n",
       "\n",
       "    .dataframe thead th {\n",
       "        text-align: right;\n",
       "    }\n",
       "</style>\n",
       "<table border=\"1\" class=\"dataframe\">\n",
       "  <thead>\n",
       "    <tr style=\"text-align: right;\">\n",
       "      <th></th>\n",
       "      <th>Variable</th>\n",
       "      <th>N</th>\n",
       "      <th>Mean</th>\n",
       "      <th>SD</th>\n",
       "      <th>SE</th>\n",
       "      <th>95% Conf.</th>\n",
       "      <th>Interval</th>\n",
       "    </tr>\n",
       "  </thead>\n",
       "  <tbody>\n",
       "    <tr>\n",
       "      <th>0</th>\n",
       "      <td>lifeExp</td>\n",
       "      <td>1704.00</td>\n",
       "      <td>59.47</td>\n",
       "      <td>12.92</td>\n",
       "      <td>0.31</td>\n",
       "      <td>58.86</td>\n",
       "      <td>60.09</td>\n",
       "    </tr>\n",
       "    <tr>\n",
       "      <th>1</th>\n",
       "      <td>pop</td>\n",
       "      <td>1704.00</td>\n",
       "      <td>29601212.32</td>\n",
       "      <td>106157896.74</td>\n",
       "      <td>2571683.45</td>\n",
       "      <td>24557220.53</td>\n",
       "      <td>34645204.12</td>\n",
       "    </tr>\n",
       "    <tr>\n",
       "      <th>2</th>\n",
       "      <td>gdpPercap</td>\n",
       "      <td>1704.00</td>\n",
       "      <td>7215.33</td>\n",
       "      <td>9857.45</td>\n",
       "      <td>238.80</td>\n",
       "      <td>6746.96</td>\n",
       "      <td>7683.69</td>\n",
       "    </tr>\n",
       "  </tbody>\n",
       "</table>\n",
       "</div>"
      ],
      "text/plain": [
       "    Variable       N        Mean           SD         SE   95% Conf.  \\\n",
       "0    lifeExp 1704.00       59.47        12.92       0.31       58.86   \n",
       "1        pop 1704.00 29601212.32 106157896.74 2571683.45 24557220.53   \n",
       "2  gdpPercap 1704.00     7215.33      9857.45     238.80     6746.96   \n",
       "\n",
       "     Interval  \n",
       "0       60.09  \n",
       "1 34645204.12  \n",
       "2     7683.69  "
      ]
     },
     "execution_count": 16,
     "metadata": {},
     "output_type": "execute_result"
    }
   ],
   "source": [
    "rp.summary_cont(df[['lifeExp', 'pop', 'gdpPercap']])"
   ]
  },
  {
   "cell_type": "code",
   "execution_count": 17,
   "metadata": {},
   "outputs": [
    {
     "data": {
      "text/html": [
       "<div>\n",
       "<style scoped>\n",
       "    .dataframe tbody tr th:only-of-type {\n",
       "        vertical-align: middle;\n",
       "    }\n",
       "\n",
       "    .dataframe tbody tr th {\n",
       "        vertical-align: top;\n",
       "    }\n",
       "\n",
       "    .dataframe thead th {\n",
       "        text-align: right;\n",
       "    }\n",
       "</style>\n",
       "<table border=\"1\" class=\"dataframe\">\n",
       "  <thead>\n",
       "    <tr style=\"text-align: right;\">\n",
       "      <th></th>\n",
       "      <th>Variable</th>\n",
       "      <th>Outcome</th>\n",
       "      <th>Count</th>\n",
       "      <th>Percent</th>\n",
       "    </tr>\n",
       "  </thead>\n",
       "  <tbody>\n",
       "    <tr>\n",
       "      <th>0</th>\n",
       "      <td>continent</td>\n",
       "      <td>Africa</td>\n",
       "      <td>624</td>\n",
       "      <td>36.62</td>\n",
       "    </tr>\n",
       "    <tr>\n",
       "      <th>1</th>\n",
       "      <td></td>\n",
       "      <td>Asia</td>\n",
       "      <td>396</td>\n",
       "      <td>23.24</td>\n",
       "    </tr>\n",
       "    <tr>\n",
       "      <th>2</th>\n",
       "      <td></td>\n",
       "      <td>Europe</td>\n",
       "      <td>360</td>\n",
       "      <td>21.13</td>\n",
       "    </tr>\n",
       "    <tr>\n",
       "      <th>3</th>\n",
       "      <td></td>\n",
       "      <td>Americas</td>\n",
       "      <td>300</td>\n",
       "      <td>17.61</td>\n",
       "    </tr>\n",
       "    <tr>\n",
       "      <th>4</th>\n",
       "      <td></td>\n",
       "      <td>Oceania</td>\n",
       "      <td>24</td>\n",
       "      <td>1.41</td>\n",
       "    </tr>\n",
       "  </tbody>\n",
       "</table>\n",
       "</div>"
      ],
      "text/plain": [
       "    Variable   Outcome  Count  Percent\n",
       "0  continent    Africa    624    36.62\n",
       "1                 Asia    396    23.24\n",
       "2               Europe    360    21.13\n",
       "3             Americas    300    17.61\n",
       "4              Oceania     24     1.41"
      ]
     },
     "execution_count": 17,
     "metadata": {},
     "output_type": "execute_result"
    }
   ],
   "source": [
    "rp.summary_cat(df['continent'])"
   ]
  },
  {
   "cell_type": "markdown",
   "metadata": {},
   "source": [
    "#### Korreláció mátrix"
   ]
  },
  {
   "cell_type": "code",
   "execution_count": 18,
   "metadata": {
    "scrolled": false
   },
   "outputs": [
    {
     "data": {
      "text/html": [
       "<div>\n",
       "<style scoped>\n",
       "    .dataframe tbody tr th:only-of-type {\n",
       "        vertical-align: middle;\n",
       "    }\n",
       "\n",
       "    .dataframe tbody tr th {\n",
       "        vertical-align: top;\n",
       "    }\n",
       "\n",
       "    .dataframe thead th {\n",
       "        text-align: right;\n",
       "    }\n",
       "</style>\n",
       "<table border=\"1\" class=\"dataframe\">\n",
       "  <thead>\n",
       "    <tr style=\"text-align: right;\">\n",
       "      <th></th>\n",
       "      <th>year</th>\n",
       "      <th>lifeExp</th>\n",
       "      <th>pop</th>\n",
       "      <th>gdpPercap</th>\n",
       "    </tr>\n",
       "  </thead>\n",
       "  <tbody>\n",
       "    <tr>\n",
       "      <th>year</th>\n",
       "      <td>1.00</td>\n",
       "      <td>0.44</td>\n",
       "      <td>0.08</td>\n",
       "      <td>0.23</td>\n",
       "    </tr>\n",
       "    <tr>\n",
       "      <th>lifeExp</th>\n",
       "      <td>0.44</td>\n",
       "      <td>1.00</td>\n",
       "      <td>0.06</td>\n",
       "      <td>0.58</td>\n",
       "    </tr>\n",
       "    <tr>\n",
       "      <th>pop</th>\n",
       "      <td>0.08</td>\n",
       "      <td>0.06</td>\n",
       "      <td>1.00</td>\n",
       "      <td>-0.03</td>\n",
       "    </tr>\n",
       "    <tr>\n",
       "      <th>gdpPercap</th>\n",
       "      <td>0.23</td>\n",
       "      <td>0.58</td>\n",
       "      <td>-0.03</td>\n",
       "      <td>1.00</td>\n",
       "    </tr>\n",
       "  </tbody>\n",
       "</table>\n",
       "</div>"
      ],
      "text/plain": [
       "           year  lifeExp   pop  gdpPercap\n",
       "year       1.00     0.44  0.08       0.23\n",
       "lifeExp    0.44     1.00  0.06       0.58\n",
       "pop        0.08     0.06  1.00      -0.03\n",
       "gdpPercap  0.23     0.58 -0.03       1.00"
      ]
     },
     "execution_count": 18,
     "metadata": {},
     "output_type": "execute_result"
    }
   ],
   "source": [
    "df.corr()"
   ]
  },
  {
   "cell_type": "code",
   "execution_count": 19,
   "metadata": {},
   "outputs": [
    {
     "name": "stdout",
     "output_type": "stream",
     "text": [
      "   Pearson p:  (0.5837062198659805, 3.565724241128883e-156)\n",
      "Spearman rho:  SpearmanrResult(correlation=0.8264711811970715, pvalue=0.0)\n",
      " Kendall tau:  KendalltauResult(correlation=0.6369106595644447, pvalue=0.0)\n"
     ]
    }
   ],
   "source": [
    "print('   Pearson p: ', scipy.stats.pearsonr(df['gdpPercap'], df['lifeExp']))\n",
    "print('Spearman rho: ', scipy.stats.spearmanr(df['gdpPercap'], df['lifeExp']))\n",
    "print(' Kendall tau: ', scipy.stats.kendalltau(df['gdpPercap'], df['lifeExp']))"
   ]
  },
  {
   "cell_type": "markdown",
   "metadata": {},
   "source": [
    "#### Pandas profiling - lassú"
   ]
  },
  {
   "cell_type": "code",
   "execution_count": 20,
   "metadata": {},
   "outputs": [],
   "source": [
    "#pandas_profiling.ProfileReport(df)"
   ]
  },
  {
   "cell_type": "markdown",
   "metadata": {},
   "source": [
    "### Seaborn pairplot - lassú"
   ]
  },
  {
   "cell_type": "code",
   "execution_count": 21,
   "metadata": {},
   "outputs": [],
   "source": [
    "#sns.pairplot(df)"
   ]
  },
  {
   "cell_type": "markdown",
   "metadata": {},
   "source": [
    "###   \n",
    "### Adattípusok konvertálása"
   ]
  },
  {
   "cell_type": "code",
   "execution_count": 22,
   "metadata": {},
   "outputs": [],
   "source": [
    "def típus_változtatás(df, változók_tömb, új_típus):\n",
    "    df[változók_tömb] = df[változók_tömb].astype(új_típus)\n",
    "    \n",
    "típus_változtatás(df, ['year'], 'int16')\n",
    "típus_változtatás(df, ['lifeExp', 'gdpPercap'], 'float32')\n",
    "\n",
    "típus_változtatás(df, ['country', 'continent'], 'category')"
   ]
  },
  {
   "cell_type": "code",
   "execution_count": 23,
   "metadata": {
    "scrolled": true
   },
   "outputs": [
    {
     "name": "stdout",
     "output_type": "stream",
     "text": [
      "<class 'pandas.core.frame.DataFrame'>\n",
      "RangeIndex: 1704 entries, 0 to 1703\n",
      "Data columns (total 6 columns):\n",
      "country      1704 non-null category\n",
      "continent    1704 non-null category\n",
      "year         1704 non-null int16\n",
      "lifeExp      1704 non-null float32\n",
      "pop          1704 non-null int64\n",
      "gdpPercap    1704 non-null float32\n",
      "dtypes: category(2), float32(2), int16(1), int64(1)\n",
      "memory usage: 49.6 KB\n"
     ]
    }
   ],
   "source": [
    "df.info(memory_usage='deep')"
   ]
  },
  {
   "cell_type": "markdown",
   "metadata": {},
   "source": [
    "###   \n",
    "### Eloszlás diagram szótárból, opcionális stílussal"
   ]
  },
  {
   "cell_type": "code",
   "execution_count": 24,
   "metadata": {},
   "outputs": [
    {
     "data": {
      "text/plain": [
       "{'Africa': 624, 'Asia': 396, 'Europe': 360, 'Americas': 300, 'Oceania': 24}"
      ]
     },
     "execution_count": 24,
     "metadata": {},
     "output_type": "execute_result"
    },
    {
     "data": {
      "image/png": "[encoded data removed]",
      "text/plain": [
       "<Figure size 936x432 with 1 Axes>"
      ]
     },
     "metadata": {
      "needs_background": "light"
     },
     "output_type": "display_data"
    }
   ],
   "source": [
    "def eloszlás(df, változó, stílus=None, n=None):\n",
    "    if (stílus!=None):\n",
    "        plt.style.use(stílus) #default, bmh, fivethirtyeight, seaborn, seaborn-bright, ggplot, Solarize_Light2\n",
    "    if (n==None):\n",
    "        szótár = dict(df[változó].value_counts())\n",
    "    else:\n",
    "        szótár = dict(df[változó].value_counts().nlargest(n))\n",
    "    \n",
    "    fig, ax = plt.subplots(figsize=(13, 6))\n",
    "    ax.bar(szótár.keys(), szótár.values())\n",
    "\n",
    "    ax.set_xlabel(változó)\n",
    "    ax.set_ylabel('Gyakoriság')\n",
    "    ax.set_title(változó + ' eloszlása')\n",
    "    \n",
    "    plt.xlabel(változó)\n",
    "    \n",
    "    return szótár\n",
    "    \n",
    "eloszlás(df, 'continent')"
   ]
  },
  {
   "cell_type": "code",
   "execution_count": 33,
   "metadata": {},
   "outputs": [
    {
     "data": {
      "image/png": "[encoded data removed]",
      "text/plain": [
       "<Figure size 1200x700 with 1 Axes>"
      ]
     },
     "metadata": {},
     "output_type": "display_data"
    },
    {
     "name": "stdout",
     "output_type": "stream",
     "text": [
      "{'Asia': 30507333901, 'Americas': 7351438499, 'Africa': 6187585961, 'Europe': 6181115304, 'Oceania': 212992136}\n"
     ]
    }
   ],
   "source": [
    "def n_legtobb(x, y, n, ascending=None):\n",
    "    if ((ascending == None) or (ascending == False)):\n",
    "        szotar = dict(df.groupby(by=x).sum()[y].nlargest(n))\n",
    "    else:\n",
    "        szotar = dict(df.groupby(by=x).sum()[y].nsmallest(n))\n",
    "        \n",
    "    plt.figure(figsize=(12, 7))\n",
    "    plt.bar([str(i) for i in szotar.keys()], szotar.values())\n",
    "    plt.show()\n",
    "    print(szotar)\n",
    "    \n",
    "n_legtobb('continent', 'pop', 10, False)"
   ]
  },
  {
   "cell_type": "markdown",
   "metadata": {},
   "source": [
    "### Eloszlás diagram + Ipywidget(style, x)"
   ]
  },
  {
   "cell_type": "code",
   "execution_count": 25,
   "metadata": {},
   "outputs": [
    {
     "data": {
      "application/vnd.jupyter.widget-view+json": {
       "model_id": "43ebfacc12994ba49ac3585987e86280",
       "version_major": 2,
       "version_minor": 0
      },
      "text/plain": [
       "interactive(children=(Dropdown(description='x_', options=('', 'country', 'continent', 'year', 'lifeExp', 'pop'…"
      ]
     },
     "metadata": {},
     "output_type": "display_data"
    }
   ],
   "source": [
    "def eloszlásIpw(df):\n",
    "    oszlopok = list(df.columns)\n",
    "    oszlopok.insert(0, '')\n",
    "    \n",
    "    @ipywidgets.interact\n",
    "    def plot(x_=oszlopok, style_=['default', 'bmh', 'fivethirtyeight', 'seaborn', 'seaborn-bright', 'ggplot', 'Solarize_Light2']):\n",
    "         (plt.style.use(style_),\n",
    "          plt.bar(dict(df[x_].value_counts()).keys(), dict(df[x_].value_counts()).values()),\n",
    "          plt.xlabel(x_),\n",
    "          plt.ylabel('gyakoriság'),\n",
    "          plt.title(x_ + ' eloszlása'),\n",
    "          plt.show()\n",
    "         )\n",
    "\n",
    "eloszlásIpw(df)"
   ]
  },
  {
   "cell_type": "markdown",
   "metadata": {},
   "source": [
    "### Bar plot + Ipywidgets(x, y, desc, color)"
   ]
  },
  {
   "cell_type": "code",
   "execution_count": 36,
   "metadata": {
    "scrolled": false
   },
   "outputs": [
    {
     "data": {
      "application/vnd.jupyter.widget-view+json": {
       "model_id": "e148d1a5c99f4b0fb97458e886606485",
       "version_major": 2,
       "version_minor": 0
      },
      "text/plain": [
       "interactive(children=(Dropdown(description='x_', options=('', 'country', 'continent', 'year', 'lifeExp', 'pop'…"
      ]
     },
     "metadata": {},
     "output_type": "display_data"
    }
   ],
   "source": [
    "def barplot(df, v_h):\n",
    "    oszlopok = list(df.columns)\n",
    "    oszlopok.insert(0, '')\n",
    "    sns.set(rc={'figure.figsize': (12, 7)})\n",
    "    if (v_h == 'v'):\n",
    "        @ipywidgets.interact\n",
    "        def plot(x_=oszlopok, y_=oszlopok, desc_=[True, False], color_=['royalblue', 'teal', 'darkviolet']):\n",
    "            (sns.barplot(data=df, x=x_, y=y_, color=color_, orient=v_h, order={k: v for k, v in sorted(dict(df.groupby(by=x_).mean().loc[:, y_]).items(), key=lambda item: item[1], reverse=desc_)}.keys()).set_title('Average ' + str(y_) + ' by ' + str(x_)))\n",
    "    elif (v_h == 'h'):\n",
    "        @ipywidgets.interact\n",
    "        def plot(x_=oszlopok, y_=oszlopok, desc_=[True, False],  color_=['royalblue', 'teal', 'darkviolet']):\n",
    "            (sns.barplot(data=df, x=x_, y=y_, color=color_, orient=v_h, order={k: v for k, v in sorted(dict(df.groupby(by=y_).mean().loc[:, x_]).items(), key=lambda item: item[1], reverse=desc_)}.keys()).set_title('Average ' + str(x_) + ' by ' + str(y_)))\n",
    "\n",
    "barplot(df, 'v')"
   ]
  },
  {
   "cell_type": "markdown",
   "metadata": {},
   "source": [
    "### Boxplot"
   ]
  },
  {
   "cell_type": "code",
   "execution_count": 27,
   "metadata": {},
   "outputs": [
    {
     "data": {
      "image/png": "[encoded data removed]",
      "text/plain": [
       "<Figure size 1200x700 with 1 Axes>"
      ]
     },
     "metadata": {},
     "output_type": "display_data"
    }
   ],
   "source": [
    "def boxplot(df, x, y):\n",
    "    sns.boxplot(x=x, y=y, data=df, whis='range', palette='pastel')\n",
    "    \n",
    "boxplot(df, 'continent', 'gdpPercap')"
   ]
  },
  {
   "cell_type": "markdown",
   "metadata": {},
   "source": [
    "### Boxplot + Ipywidget(x, y, palette)"
   ]
  },
  {
   "cell_type": "code",
   "execution_count": 28,
   "metadata": {
    "scrolled": false
   },
   "outputs": [
    {
     "data": {
      "application/vnd.jupyter.widget-view+json": {
       "model_id": "a943d02965024da4a37c3f57ef8d44ec",
       "version_major": 2,
       "version_minor": 0
      },
      "text/plain": [
       "interactive(children=(Dropdown(description='x_', options=('', 'country', 'continent', 'year', 'lifeExp', 'pop'…"
      ]
     },
     "metadata": {},
     "output_type": "display_data"
    }
   ],
   "source": [
    "def boxplotIpw(df, h_v):\n",
    "    oszlopok = list(df.columns)\n",
    "    oszlopok.insert(0, '')\n",
    "    if (h_v == 'h'):\n",
    "        @ipywidgets.interact\n",
    "        def plot(x_=df.select_dtypes(include=['int16', 'int32', 'int64', 'float16', 'float32', 'float64']).columns, y_=oszlopok, palette_=['pastel', 'Set2', 'husl', 'vlag', 'Paired']):\n",
    "            (sns.boxplot(x=x_, y=y_, data=df, whis=1.5, palette=palette_, orient=h_v))\n",
    "    elif (h_v == 'v'):\n",
    "        @ipywidgets.interact\n",
    "        def plot(x_=oszlopok, y_=df.select_dtypes(include=['int16', 'int32', 'int64', 'float16', 'float32', 'float64']).columns, palette_=['pastel', 'Set2', 'husl', 'vlag', 'Paired']):\n",
    "            (sns.boxplot(x=x_, y=y_, data=df, whis=1.5, palette=palette_, orient=h_v))\n",
    "\n",
    "boxplotIpw(df, 'v')"
   ]
  },
  {
   "cell_type": "code",
   "execution_count": 29,
   "metadata": {
    "scrolled": false
   },
   "outputs": [
    {
     "data": {
      "image/png": "[encoded data removed]",
      "text/plain": [
       "<Figure size 1400x700 with 1 Axes>"
      ]
     },
     "metadata": {},
     "output_type": "display_data"
    }
   ],
   "source": [
    "def boxplot_plt(df, oszlop):\n",
    "    fig, ax = plt.subplots()\n",
    "\n",
    "    ax.boxplot((df[oszlop]), vert=False, showmeans=True, meanline=True,\n",
    "           patch_artist=True,                               #Boxplot kitöltése kékkel\n",
    "           medianprops={'linewidth': 2, 'color': 'purple'}, #Medián vonal\n",
    "           meanprops={'linewidth': 2, 'color': 'red'})      #Átlag vonal\n",
    "\n",
    "    fig.set_figheight(7)\n",
    "    fig.set_figwidth(14)\n",
    "    \n",
    "boxplot_plt(df, 'gdpPercap')"
   ]
  },
  {
   "cell_type": "code",
   "execution_count": 30,
   "metadata": {},
   "outputs": [
    {
     "data": {
      "image/png": "[encoded data removed]",
      "text/plain": [
       "<Figure size 1100x700 with 2 Axes>"
      ]
     },
     "metadata": {},
     "output_type": "display_data"
    }
   ],
   "source": [
    "from scipy.stats import norm\n",
    "\n",
    "def hist_box(df, oszlop, binsize, simítás):\n",
    "    sns.set(style=\"ticks\")\n",
    "    f, (ax_box, ax_hist) = plt.subplots(2, sharex=True, gridspec_kw={\"height_ratios\": (.15, .85)}, figsize=(11, 7))\n",
    "    bin_méret=10\n",
    "\n",
    "    sns.boxplot(df[oszlop], color='darkseagreen', ax=ax_box)\n",
    "    sns.distplot(df[oszlop], bins=binsize, kde_kws=dict(bw=simítás), label='tényleges eloszlás', ax=ax_hist)\n",
    "    sns.distplot(df[oszlop], fit=norm, bins=binsize, color='green', kde=False, label='normális eloszlás', ax=ax_hist)\n",
    "\n",
    "    ax_box.set(yticks=[], xlabel='')\n",
    "    sns.despine(ax=ax_hist)\n",
    "    sns.despine(ax=ax_box, left=True)\n",
    "    plt.legend()\n",
    "    \n",
    "hist_box(df, 'lifeExp', binsize=20, simítás=5)"
   ]
  },
  {
   "cell_type": "markdown",
   "metadata": {},
   "source": [
    "### Heatmaps"
   ]
  },
  {
   "cell_type": "code",
   "execution_count": null,
   "metadata": {},
   "outputs": [],
   "source": [
    "df.describe()"
   ]
  },
  {
   "cell_type": "markdown",
   "metadata": {},
   "source": [
    "### Csúszkás idővonal"
   ]
  },
  {
   "cell_type": "code",
   "execution_count": null,
   "metadata": {},
   "outputs": [],
   "source": [
    "fig = go.Figure(data=[go.Scatter(x=df[df['country'] == 'Hungary'].year, y=df[df['country'] == 'Hungary'].gdpPercap)])\n",
    "fig.update_layout(xaxis_range=['1952','2007'], xaxis_rangeslider_visible=True)\n",
    "#fig.update_traces(mode='lines')\n",
    "fig.show()"
   ]
  }
 ],
 "metadata": {
  "hide_input": false,
  "kernelspec": {
   "display_name": "Python 3",
   "language": "python",
   "name": "python3"
  },
  "language_info": {
   "codemirror_mode": {
    "name": "ipython",
    "version": 3
   },
   "file_extension": ".py",
   "mimetype": "text/x-python",
   "name": "python",
   "nbconvert_exporter": "python",
   "pygments_lexer": "ipython3",
   "version": "3.7.4"
  }
 },
 "nbformat": 4,
 "nbformat_minor": 2
}
