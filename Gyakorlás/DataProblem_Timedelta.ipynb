{
 "cells": [
  {
   "cell_type": "code",
   "execution_count": 152,
   "metadata": {},
   "outputs": [],
   "source": [
    "import pandas as pd\n",
    "import numpy as np"
   ]
  },
  {
   "cell_type": "code",
   "execution_count": 166,
   "metadata": {},
   "outputs": [],
   "source": [
    "ts = [\n",
    "    '2019-01-01', \n",
    "    '2019-01-02',\n",
    "    '2019-01-08', \n",
    "    '2019-02-01', \n",
    "    '2019-02-02',\n",
    "    '2019-02-05',\n",
    "]"
   ]
  },
  {
   "cell_type": "code",
   "execution_count": 167,
   "metadata": {},
   "outputs": [],
   "source": [
    "df = pd.Series(ts)"
   ]
  },
  {
   "cell_type": "code",
   "execution_count": 168,
   "metadata": {},
   "outputs": [],
   "source": [
    "import datetime\n",
    "\n",
    "def str_to_datetime(datum):\n",
    "    datum_timestamp = datetime.datetime.strptime(datum, '%Y-%m-%d')\n",
    "    return datum_timestamp\n",
    "\n",
    "df = df.map(str_to_datetime)"
   ]
  },
  {
   "cell_type": "code",
   "execution_count": 169,
   "metadata": {},
   "outputs": [
    {
     "data": {
      "text/plain": [
       "[[datetime.date(2019, 1, 1), datetime.date(2019, 1, 2)],\n",
       " [datetime.date(2019, 1, 8)],\n",
       " [datetime.date(2019, 2, 1), datetime.date(2019, 2, 2)],\n",
       " [datetime.date(2019, 2, 5)]]"
      ]
     },
     "execution_count": 169,
     "metadata": {},
     "output_type": "execute_result"
    }
   ],
   "source": [
    "het_nap = datetime.timedelta(days=7)\n",
    "\n",
    "vege = df[0].date() + het_nap\n",
    "\n",
    "lista = []\n",
    "belso_lista = []\n",
    "\n",
    "for i, datum in enumerate(df):\n",
    "    \n",
    "    if (datum.date() < vege):\n",
    "        belso_lista.append(datum.date())            \n",
    "    else:\n",
    "        lista.append(belso_lista)\n",
    "        while (vege < datum.date()):\n",
    "            vege += het_nap\n",
    "        belso_lista = [datum.date()]\n",
    "\n",
    "    if (i == len(df)-1):\n",
    "        lista.append(belso_lista)\n",
    "        \n",
    "lista"
   ]
  }
 ],
 "metadata": {
  "hide_input": false,
  "kernelspec": {
   "display_name": "Python 3",
   "language": "python",
   "name": "python3"
  },
  "language_info": {
   "codemirror_mode": {
    "name": "ipython",
    "version": 3
   },
   "file_extension": ".py",
   "mimetype": "text/x-python",
   "name": "python",
   "nbconvert_exporter": "python",
   "pygments_lexer": "ipython3",
   "version": "3.7.4"
  }
 },
 "nbformat": 4,
 "nbformat_minor": 2
}
