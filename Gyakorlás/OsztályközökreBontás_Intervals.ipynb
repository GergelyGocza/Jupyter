{
 "cells": [
  {
   "cell_type": "markdown",
   "metadata": {},
   "source": [
    "### Könyvtárak importálása"
   ]
  },
  {
   "cell_type": "code",
   "execution_count": 34,
   "metadata": {},
   "outputs": [],
   "source": [
    "import numpy as np\n",
    "from intervals import IntInterval"
   ]
  },
  {
   "cell_type": "markdown",
   "metadata": {},
   "source": [
    "### Számok generálása listába"
   ]
  },
  {
   "cell_type": "code",
   "execution_count": 25,
   "metadata": {},
   "outputs": [],
   "source": [
    "szamok = [3, 5, 2, 4, 1, 1, 4, 8, 9, 7, 4, 7, 8, 3, 6]"
   ]
  },
  {
   "cell_type": "markdown",
   "metadata": {},
   "source": [
    "### Számok intervallumokba sorolása"
   ]
  },
  {
   "cell_type": "code",
   "execution_count": 28,
   "metadata": {},
   "outputs": [
    {
     "data": {
      "text/plain": [
       "[[3, 2, 1, 1, 3], [5, 4, 4, 4, 6], [8, 9, 7, 7, 8]]"
      ]
     },
     "execution_count": 28,
     "metadata": {},
     "output_type": "execute_result"
    }
   ],
   "source": [
    "intervallumok = [IntInterval.closed(1, 3), IntInterval.closed(4, 6), IntInterval.closed(7, 9)]\n",
    "intervallum_szam = [[], [], []]\n",
    "\n",
    "for i in szamok:\n",
    "    for j, k in enumerate(intervallumok):       \n",
    "        if (i in k):\n",
    "            intervallum_szam[j].append(i)\n",
    "            \n",
    "intervallum_szam"
   ]
  },
  {
   "cell_type": "markdown",
   "metadata": {},
   "source": [
    "### Az intervallumokba sorolt számok listáiból könyvtár készítése"
   ]
  },
  {
   "cell_type": "code",
   "execution_count": 29,
   "metadata": {},
   "outputs": [
    {
     "data": {
      "text/plain": [
       "{'AM': [3, 2, 1, 1, 3],\n",
       " 'Aláírás': [5, 4, 4, 4, 6],\n",
       " 'Megajánl': [8, 9, 7, 7, 8]}"
      ]
     },
     "execution_count": 29,
     "metadata": {},
     "output_type": "execute_result"
    }
   ],
   "source": [
    "osztalyzatok = {'AM': intervallum_szam[0], 'Aláírás': intervallum_szam[1], 'Megajánl': intervallum_szam[2]}\n",
    "osztalyzatok"
   ]
  },
  {
   "cell_type": "markdown",
   "metadata": {},
   "source": [
    "### Az egyes intervallumokban lévő elemek átlagainak kiszámítása"
   ]
  },
  {
   "cell_type": "code",
   "execution_count": 43,
   "metadata": {},
   "outputs": [
    {
     "name": "stdout",
     "output_type": "stream",
     "text": [
      "AM: 2.0\n",
      "Aláírás: 4.6\n",
      "Megajánl: 7.8\n"
     ]
    }
   ],
   "source": [
    "for i in osztalyzatok.keys():\n",
    "    print(f'{i}: {np.array(osztalyzatok[i]).mean()}')"
   ]
  }
 ],
 "metadata": {
  "hide_input": false,
  "kernelspec": {
   "display_name": "Python 3",
   "language": "python",
   "name": "python3"
  },
  "language_info": {
   "codemirror_mode": {
    "name": "ipython",
    "version": 3
   },
   "file_extension": ".py",
   "mimetype": "text/x-python",
   "name": "python",
   "nbconvert_exporter": "python",
   "pygments_lexer": "ipython3",
   "version": "3.7.4"
  }
 },
 "nbformat": 4,
 "nbformat_minor": 2
}
